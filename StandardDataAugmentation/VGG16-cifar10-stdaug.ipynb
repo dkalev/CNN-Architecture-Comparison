{
 "cells": [
  {
   "cell_type": "code",
   "execution_count": 1,
   "metadata": {},
   "outputs": [
    {
     "name": "stderr",
     "output_type": "stream",
     "text": [
      "Using TensorFlow backend.\n"
     ]
    }
   ],
   "source": [
    "import keras"
   ]
  },
  {
   "cell_type": "code",
   "execution_count": 2,
   "metadata": {},
   "outputs": [],
   "source": [
    "from keras.applications.vgg16 import VGG16\n",
    "from keras.preprocessing.image import ImageDataGenerator\n",
    "from keras.layers import Input, GlobalAveragePooling2D, Dense\n",
    "from keras.models import Model\n",
    "from keras.optimizers import SGD\n",
    "import numpy as np\n",
    "import pickle as pkl\n",
    "import datetime"
   ]
  },
  {
   "cell_type": "markdown",
   "metadata": {},
   "source": [
    "# Load Cifar10 dataset"
   ]
  },
  {
   "cell_type": "code",
   "execution_count": 3,
   "metadata": {},
   "outputs": [],
   "source": [
    "(x_train, y_train), (x_test, y_test) = keras.datasets.cifar10.load_data()"
   ]
  },
  {
   "cell_type": "code",
   "execution_count": 4,
   "metadata": {},
   "outputs": [
    {
     "name": "stdout",
     "output_type": "stream",
     "text": [
      "The training set has 50000 samples with dimentions (32, 32, 3).\n",
      "The test set has 10000 samples with dimentions (32, 32, 3).\n"
     ]
    }
   ],
   "source": [
    "print('The training set has {0} samples with dimentions {1}.'.format(x_train.shape[0], x_train.shape[1:]))\n",
    "print('The test set has {0} samples with dimentions {1}.'.format(x_test.shape[0], x_test.shape[1:]))"
   ]
  },
  {
   "cell_type": "code",
   "execution_count": 19,
   "metadata": {},
   "outputs": [],
   "source": [
    "NUM_CLASSES = 10\n",
    "IMG_ROWS, IMG_COLS = 32, 32\n",
    "BATCH_SIZE = 512\n",
    "EPOCHS = 50\n",
    "VAL_SPLIT = .2\n",
    "LEARNING_RATE = 1e-2\n",
    "SGD_MOMENTUM = .9"
   ]
  },
  {
   "cell_type": "markdown",
   "metadata": {},
   "source": [
    "# Preprocess data"
   ]
  },
  {
   "cell_type": "code",
   "execution_count": 6,
   "metadata": {},
   "outputs": [],
   "source": [
    "x_train = x_train.astype('float32')\n",
    "x_test = x_test.astype('float32')"
   ]
  },
  {
   "cell_type": "code",
   "execution_count": 7,
   "metadata": {},
   "outputs": [],
   "source": [
    "x_train -= np.mean(x_train)\n",
    "x_test -= np.mean(x_test)"
   ]
  },
  {
   "cell_type": "code",
   "execution_count": 8,
   "metadata": {},
   "outputs": [],
   "source": [
    "x_train /= np.std(x_train)\n",
    "x_test /= np.std(x_test)"
   ]
  },
  {
   "cell_type": "code",
   "execution_count": 9,
   "metadata": {},
   "outputs": [],
   "source": [
    "y_train = keras.utils.to_categorical(y_train, NUM_CLASSES)\n",
    "y_test = keras.utils.to_categorical(y_test, NUM_CLASSES)"
   ]
  },
  {
   "cell_type": "code",
   "execution_count": 10,
   "metadata": {},
   "outputs": [],
   "source": [
    "val_split = int((1-VAL_SPLIT)*len(x_train))\n",
    "x_train , x_val = x_train[:val_split], x_train[val_split:]\n",
    "y_train, y_val = y_train[:val_split], y_train[val_split:]"
   ]
  },
  {
   "cell_type": "markdown",
   "metadata": {},
   "source": [
    "# Define data augmentations"
   ]
  },
  {
   "cell_type": "code",
   "execution_count": 11,
   "metadata": {},
   "outputs": [],
   "source": [
    "datagen = ImageDataGenerator(width_shift_range=.2, \n",
    "                             height_shift_range=.2,\n",
    "                             zoom_range=.2,\n",
    "                             horizontal_flip=True, \n",
    "                             vertical_flip=True)"
   ]
  },
  {
   "cell_type": "markdown",
   "metadata": {},
   "source": [
    "# Build model"
   ]
  },
  {
   "cell_type": "code",
   "execution_count": 12,
   "metadata": {},
   "outputs": [],
   "source": [
    "input_tensor = Input(shape=(IMG_ROWS, IMG_COLS, 3))"
   ]
  },
  {
   "cell_type": "code",
   "execution_count": 13,
   "metadata": {},
   "outputs": [],
   "source": [
    "base_model = VGG16(include_top=False, input_tensor=input_tensor)"
   ]
  },
  {
   "cell_type": "code",
   "execution_count": 15,
   "metadata": {},
   "outputs": [],
   "source": [
    "x = base_model.output\n",
    "x = GlobalAveragePooling2D()(x)\n",
    "x = Dense(1024, activation='relu')(x)\n",
    "predictions = Dense(NUM_CLASSES, activation='softmax')(x)"
   ]
  },
  {
   "cell_type": "code",
   "execution_count": 16,
   "metadata": {},
   "outputs": [],
   "source": [
    "vgg16 = Model(inputs=base_model.input, outputs=predictions)"
   ]
  },
  {
   "cell_type": "code",
   "execution_count": 17,
   "metadata": {},
   "outputs": [],
   "source": [
    "vgg16.compile(optimizer=SGD(lr=LEARNING_RATE, momentum=SGD_MOMENTUM), loss='categorical_crossentropy', metrics=['accuracy'])"
   ]
  },
  {
   "cell_type": "markdown",
   "metadata": {},
   "source": [
    "# Train model"
   ]
  },
  {
   "cell_type": "code",
   "execution_count": 18,
   "metadata": {},
   "outputs": [],
   "source": [
    "now = datetime.datetime.now()\n",
    "tensorflow_log_dir = \"Graph/\" + now.strftime(\"%Y%m%d-%H%M%S\") + \"/\""
   ]
  },
  {
   "cell_type": "code",
   "execution_count": 20,
   "metadata": {},
   "outputs": [],
   "source": [
    "tensorboard_callback = keras.callbacks.TensorBoard(log_dir=tensorflow_log_dir, histogram_freq=0,  \n",
    "          write_graph=False, write_images=False)"
   ]
  },
  {
   "cell_type": "code",
   "execution_count": 21,
   "metadata": {},
   "outputs": [
    {
     "name": "stdout",
     "output_type": "stream",
     "text": [
      "Epoch 1/50\n",
      "79/78 [==============================] - 43s 549ms/step - loss: 2.2816 - acc: 0.1475 - val_loss: 2.1963 - val_acc: 0.1329\n",
      "Epoch 2/50\n",
      "79/78 [==============================] - 33s 421ms/step - loss: 1.9950 - acc: 0.2027 - val_loss: 1.8518 - val_acc: 0.2551\n",
      "Epoch 3/50\n",
      "79/78 [==============================] - 35s 442ms/step - loss: 1.8087 - acc: 0.2854 - val_loss: 1.6090 - val_acc: 0.3670\n",
      "Epoch 4/50\n",
      "79/78 [==============================] - 34s 431ms/step - loss: 1.5381 - acc: 0.4038 - val_loss: 1.4121 - val_acc: 0.4857\n",
      "Epoch 5/50\n",
      "79/78 [==============================] - 34s 433ms/step - loss: 1.3058 - acc: 0.5157 - val_loss: 1.1018 - val_acc: 0.6105\n",
      "Epoch 6/50\n",
      "79/78 [==============================] - 35s 448ms/step - loss: 1.1017 - acc: 0.6032 - val_loss: 0.9820 - val_acc: 0.6633\n",
      "Epoch 7/50\n",
      "79/78 [==============================] - 34s 432ms/step - loss: 0.9693 - acc: 0.6548 - val_loss: 0.8446 - val_acc: 0.7078\n",
      "Epoch 8/50\n",
      "79/78 [==============================] - 35s 446ms/step - loss: 0.8654 - acc: 0.6976 - val_loss: 1.0333 - val_acc: 0.6525\n",
      "Epoch 9/50\n",
      "79/78 [==============================] - 35s 447ms/step - loss: 0.8121 - acc: 0.7160 - val_loss: 0.6858 - val_acc: 0.7538\n",
      "Epoch 10/50\n",
      "79/78 [==============================] - 34s 435ms/step - loss: 0.7712 - acc: 0.7290 - val_loss: 1.0914 - val_acc: 0.6722\n",
      "Epoch 11/50\n",
      "79/78 [==============================] - 35s 449ms/step - loss: 0.7423 - acc: 0.7407 - val_loss: 0.7818 - val_acc: 0.7349\n",
      "Epoch 12/50\n",
      "79/78 [==============================] - 34s 434ms/step - loss: 0.7213 - acc: 0.7470 - val_loss: 0.7428 - val_acc: 0.7411\n",
      "Epoch 13/50\n",
      "79/78 [==============================] - 34s 434ms/step - loss: 0.6742 - acc: 0.7647 - val_loss: 0.6697 - val_acc: 0.7746\n",
      "Epoch 14/50\n",
      "79/78 [==============================] - 34s 436ms/step - loss: 0.6523 - acc: 0.7715 - val_loss: 0.7577 - val_acc: 0.7509\n",
      "Epoch 15/50\n",
      "79/78 [==============================] - 34s 434ms/step - loss: 0.6141 - acc: 0.7851 - val_loss: 0.5724 - val_acc: 0.8019\n",
      "Epoch 16/50\n",
      "79/78 [==============================] - 34s 431ms/step - loss: 0.5931 - acc: 0.7926 - val_loss: 0.7777 - val_acc: 0.7366\n",
      "Epoch 17/50\n",
      "79/78 [==============================] - 34s 434ms/step - loss: 0.5797 - acc: 0.7975 - val_loss: 0.6564 - val_acc: 0.7829\n",
      "Epoch 18/50\n",
      "79/78 [==============================] - 34s 434ms/step - loss: 0.5619 - acc: 0.8045 - val_loss: 0.5955 - val_acc: 0.7953\n",
      "Epoch 19/50\n",
      "79/78 [==============================] - 34s 434ms/step - loss: 0.5521 - acc: 0.8079 - val_loss: 0.5973 - val_acc: 0.7972\n",
      "Epoch 20/50\n",
      "79/78 [==============================] - 34s 432ms/step - loss: 0.5392 - acc: 0.8104 - val_loss: 0.5219 - val_acc: 0.8190\n",
      "Epoch 21/50\n",
      "79/78 [==============================] - 34s 433ms/step - loss: 0.5167 - acc: 0.8195 - val_loss: 0.5523 - val_acc: 0.8089\n",
      "Epoch 22/50\n",
      "79/78 [==============================] - 34s 433ms/step - loss: 0.4920 - acc: 0.8274 - val_loss: 0.6333 - val_acc: 0.7945\n",
      "Epoch 23/50\n",
      "79/78 [==============================] - 34s 435ms/step - loss: 0.4868 - acc: 0.8293 - val_loss: 0.5810 - val_acc: 0.8053\n",
      "Epoch 24/50\n",
      "79/78 [==============================] - 34s 432ms/step - loss: 0.4805 - acc: 0.8307 - val_loss: 0.5180 - val_acc: 0.8234\n",
      "Epoch 25/50\n",
      "79/78 [==============================] - 34s 434ms/step - loss: 0.4764 - acc: 0.8322 - val_loss: 0.5305 - val_acc: 0.8190\n",
      "Epoch 26/50\n",
      "79/78 [==============================] - 34s 435ms/step - loss: 0.4491 - acc: 0.8437 - val_loss: 0.5175 - val_acc: 0.8218\n",
      "Epoch 27/50\n",
      "79/78 [==============================] - 34s 433ms/step - loss: 0.4391 - acc: 0.8472 - val_loss: 0.5165 - val_acc: 0.8274\n",
      "Epoch 28/50\n",
      "79/78 [==============================] - 34s 431ms/step - loss: 0.4230 - acc: 0.8518 - val_loss: 0.4869 - val_acc: 0.8374\n",
      "Epoch 29/50\n",
      "79/78 [==============================] - 34s 433ms/step - loss: 0.4129 - acc: 0.8560 - val_loss: 0.4972 - val_acc: 0.8341\n",
      "Epoch 30/50\n",
      "79/78 [==============================] - 34s 436ms/step - loss: 0.3972 - acc: 0.8621 - val_loss: 0.4501 - val_acc: 0.8460\n",
      "Epoch 31/50\n",
      "79/78 [==============================] - 34s 435ms/step - loss: 0.3933 - acc: 0.8613 - val_loss: 0.4703 - val_acc: 0.8440\n",
      "Epoch 32/50\n",
      "79/78 [==============================] - 34s 432ms/step - loss: 0.3828 - acc: 0.8654 - val_loss: 0.5125 - val_acc: 0.8300\n",
      "Epoch 33/50\n",
      "79/78 [==============================] - 34s 435ms/step - loss: 0.3837 - acc: 0.8655 - val_loss: 0.4897 - val_acc: 0.8395\n",
      "Epoch 34/50\n",
      "79/78 [==============================] - 34s 432ms/step - loss: 0.3809 - acc: 0.8668 - val_loss: 0.4967 - val_acc: 0.8356\n",
      "Epoch 35/50\n",
      "79/78 [==============================] - 34s 434ms/step - loss: 0.3651 - acc: 0.8740 - val_loss: 0.5485 - val_acc: 0.8199\n",
      "Epoch 36/50\n",
      "79/78 [==============================] - 34s 432ms/step - loss: 0.3701 - acc: 0.8689 - val_loss: 0.4562 - val_acc: 0.8484\n",
      "Epoch 37/50\n",
      "79/78 [==============================] - 34s 434ms/step - loss: 0.3488 - acc: 0.8790 - val_loss: 0.4681 - val_acc: 0.8464\n",
      "Epoch 38/50\n",
      "79/78 [==============================] - 34s 436ms/step - loss: 0.3475 - acc: 0.8781 - val_loss: 0.4744 - val_acc: 0.8465\n",
      "Epoch 39/50\n",
      "79/78 [==============================] - 34s 436ms/step - loss: 0.3438 - acc: 0.8801 - val_loss: 0.4825 - val_acc: 0.8429\n",
      "Epoch 40/50\n",
      "79/78 [==============================] - 35s 441ms/step - loss: 0.3076 - acc: 0.8912 - val_loss: 0.4781 - val_acc: 0.8431\n",
      "Epoch 41/50\n",
      "79/78 [==============================] - 34s 433ms/step - loss: 0.3264 - acc: 0.8852 - val_loss: 0.4657 - val_acc: 0.8476\n",
      "Epoch 42/50\n",
      "79/78 [==============================] - 34s 432ms/step - loss: 0.3233 - acc: 0.8874 - val_loss: 0.4499 - val_acc: 0.8511\n",
      "Epoch 43/50\n",
      "79/78 [==============================] - 34s 433ms/step - loss: 0.3086 - acc: 0.8929 - val_loss: 0.4606 - val_acc: 0.8526\n",
      "Epoch 44/50\n",
      "79/78 [==============================] - 34s 434ms/step - loss: 0.2999 - acc: 0.8950 - val_loss: 0.4297 - val_acc: 0.8590\n",
      "Epoch 45/50\n",
      "79/78 [==============================] - 34s 433ms/step - loss: 0.3000 - acc: 0.8939 - val_loss: 0.4420 - val_acc: 0.8592\n",
      "Epoch 46/50\n",
      "79/78 [==============================] - 34s 434ms/step - loss: 0.2905 - acc: 0.8968 - val_loss: 0.4446 - val_acc: 0.8582\n",
      "Epoch 47/50\n",
      "79/78 [==============================] - 34s 435ms/step - loss: 0.2830 - acc: 0.8990 - val_loss: 0.4395 - val_acc: 0.8582\n",
      "Epoch 48/50\n",
      "79/78 [==============================] - 34s 432ms/step - loss: 0.2810 - acc: 0.9008 - val_loss: 0.4841 - val_acc: 0.8457\n",
      "Epoch 49/50\n",
      "79/78 [==============================] - 34s 433ms/step - loss: 0.2730 - acc: 0.9044 - val_loss: 0.4782 - val_acc: 0.8546\n",
      "Epoch 50/50\n",
      "79/78 [==============================] - 34s 432ms/step - loss: 0.2731 - acc: 0.9052 - val_loss: 0.4015 - val_acc: 0.8709\n"
     ]
    },
    {
     "data": {
      "text/plain": [
       "<keras.callbacks.History at 0x7f486d5070f0>"
      ]
     },
     "execution_count": 21,
     "metadata": {},
     "output_type": "execute_result"
    }
   ],
   "source": [
    "vgg16.fit_generator(datagen.flow(x_train, y_train, batch_size=BATCH_SIZE),\n",
    "                    steps_per_epoch=len(x_train) / BATCH_SIZE,\n",
    "                    validation_data=ImageDataGenerator().flow(x_val, y_val, batch_size=BATCH_SIZE),\n",
    "                    validation_steps=len(x_val) / BATCH_SIZE,\n",
    "                    epochs=EPOCHS, callbacks=[tensorboard_callback], verbose=1)"
   ]
  },
  {
   "cell_type": "code",
   "execution_count": 22,
   "metadata": {},
   "outputs": [
    {
     "name": "stdout",
     "output_type": "stream",
     "text": [
      "10000/10000 [==============================] - 6s 577us/step\n"
     ]
    },
    {
     "data": {
      "text/plain": [
       "[0.4318272342205048, 0.8604]"
      ]
     },
     "execution_count": 22,
     "metadata": {},
     "output_type": "execute_result"
    }
   ],
   "source": [
    "vgg16.evaluate(x_test, y_test, verbose=1)"
   ]
  },
  {
   "cell_type": "code",
   "execution_count": null,
   "metadata": {},
   "outputs": [],
   "source": []
  }
 ],
 "metadata": {
  "kernelspec": {
   "display_name": "Python 3",
   "language": "python",
   "name": "python3"
  },
  "language_info": {
   "codemirror_mode": {
    "name": "ipython",
    "version": 3
   },
   "file_extension": ".py",
   "mimetype": "text/x-python",
   "name": "python",
   "nbconvert_exporter": "python",
   "pygments_lexer": "ipython3",
   "version": "3.6.4"
  }
 },
 "nbformat": 4,
 "nbformat_minor": 2
}
