{
 "cells": [
  {
   "cell_type": "code",
   "execution_count": 1,
   "metadata": {},
   "outputs": [
    {
     "name": "stderr",
     "output_type": "stream",
     "text": [
      "Using TensorFlow backend.\n"
     ]
    }
   ],
   "source": [
    "import keras"
   ]
  },
  {
   "cell_type": "code",
   "execution_count": 2,
   "metadata": {},
   "outputs": [],
   "source": [
    "from keras.applications.xception import Xception\n",
    "from keras.preprocessing.image import ImageDataGenerator\n",
    "from keras.layers import Input, GlobalAveragePooling2D, Dense\n",
    "from keras.models import Model\n",
    "from keras.optimizers import SGD\n",
    "import numpy as np\n",
    "import pickle as pkl\n",
    "import datetime"
   ]
  },
  {
   "cell_type": "markdown",
   "metadata": {},
   "source": [
    "# Load Cifar10 dataset"
   ]
  },
  {
   "cell_type": "code",
   "execution_count": 3,
   "metadata": {},
   "outputs": [],
   "source": [
    "with open(\"../dataset/cifar10_train.pkl\", \"rb\") as f:\n",
    "    x_train, y_train = pkl.load(f)\n",
    "with open(\"../dataset/cifar10_test.pkl\", \"rb\") as f:\n",
    "    x_test, y_test = pkl.load(f)"
   ]
  },
  {
   "cell_type": "code",
   "execution_count": 4,
   "metadata": {},
   "outputs": [
    {
     "name": "stdout",
     "output_type": "stream",
     "text": [
      "The training set has 50000 samples with dimentions (32, 32, 3).\n",
      "The test set has 10000 samples with dimentions (32, 32, 3).\n"
     ]
    }
   ],
   "source": [
    "print('The training set has {0} samples with dimentions {1}.'.format(x_train.shape[0], x_train.shape[1:]))\n",
    "print('The test set has {0} samples with dimentions {1}.'.format(x_test.shape[0], x_test.shape[1:]))"
   ]
  },
  {
   "cell_type": "code",
   "execution_count": 5,
   "metadata": {},
   "outputs": [],
   "source": [
    "NUM_CLASSES = 10\n",
    "IMG_ROWS, IMG_COLS = 32, 32\n",
    "BATCH_SIZE = 512\n",
    "EPOCHS = 20\n",
    "VAL_SPLIT = .2\n",
    "LEARNING_RATE = 1e-2\n",
    "SGD_MOMENTUM = .9"
   ]
  },
  {
   "cell_type": "markdown",
   "metadata": {},
   "source": [
    "# Preprocess data"
   ]
  },
  {
   "cell_type": "code",
   "execution_count": 6,
   "metadata": {},
   "outputs": [],
   "source": [
    "x_train = x_train.astype('float32')\n",
    "x_test = x_test.astype('float32')"
   ]
  },
  {
   "cell_type": "code",
   "execution_count": 7,
   "metadata": {},
   "outputs": [],
   "source": [
    "x_train -= np.mean(x_train)\n",
    "x_test -= np.mean(x_test)"
   ]
  },
  {
   "cell_type": "code",
   "execution_count": 8,
   "metadata": {},
   "outputs": [],
   "source": [
    "x_train /= np.std(x_train)\n",
    "x_test /= np.std(x_test)"
   ]
  },
  {
   "cell_type": "code",
   "execution_count": 9,
   "metadata": {},
   "outputs": [],
   "source": [
    "y_train = keras.utils.to_categorical(y_train, NUM_CLASSES)\n",
    "y_test = keras.utils.to_categorical(y_test, NUM_CLASSES)"
   ]
  },
  {
   "cell_type": "code",
   "execution_count": 31,
   "metadata": {},
   "outputs": [],
   "source": [
    "val_split = int((1-VAL_SPLIT)*len(x_train))\n",
    "x_train , x_val = x_train[:val_split], x_train[val_split:]\n",
    "y_train, y_val = y_train[:val_split], y_train[val_split:]"
   ]
  },
  {
   "cell_type": "markdown",
   "metadata": {},
   "source": [
    "# Define data augmentations"
   ]
  },
  {
   "cell_type": "code",
   "execution_count": 32,
   "metadata": {},
   "outputs": [],
   "source": [
    "datagen = ImageDataGenerator(width_shift_range=.2, \n",
    "                             height_shift_range=.2,\n",
    "                             zoom_range=.2,\n",
    "                             horizontal_flip=True, \n",
    "                             vertical_flip=True)"
   ]
  },
  {
   "cell_type": "markdown",
   "metadata": {},
   "source": [
    "# Build model"
   ]
  },
  {
   "cell_type": "code",
   "execution_count": 33,
   "metadata": {},
   "outputs": [],
   "source": [
    "input_tensor = Input(shape=(IMG_ROWS, IMG_COLS, 3))"
   ]
  },
  {
   "cell_type": "code",
   "execution_count": 34,
   "metadata": {},
   "outputs": [],
   "source": [
    "base_model = Xception(include_top=False, input_tensor=input_tensor, weights=None)"
   ]
  },
  {
   "cell_type": "code",
   "execution_count": 35,
   "metadata": {},
   "outputs": [],
   "source": [
    "base_model.load_weights('../pretrained_weights/xception_weights_tf_dim_ordering_tf_kernels_notop.h5')"
   ]
  },
  {
   "cell_type": "code",
   "execution_count": 36,
   "metadata": {},
   "outputs": [],
   "source": [
    "x = base_model.output\n",
    "x = GlobalAveragePooling2D()(x)\n",
    "x = Dense(1024, activation='relu')(x)\n",
    "predictions = Dense(NUM_CLASSES, activation='softmax')(x)"
   ]
  },
  {
   "cell_type": "code",
   "execution_count": 37,
   "metadata": {},
   "outputs": [],
   "source": [
    "xception = Model(inputs=base_model.input, outputs=predictions)"
   ]
  },
  {
   "cell_type": "code",
   "execution_count": 38,
   "metadata": {},
   "outputs": [],
   "source": [
    "xception.compile(optimizer=SGD(lr=LEARNING_RATE, momentum=SGD_MOMENTUM), loss='categorical_crossentropy', metrics=['accuracy'])"
   ]
  },
  {
   "cell_type": "markdown",
   "metadata": {},
   "source": [
    "# Train model"
   ]
  },
  {
   "cell_type": "code",
   "execution_count": 40,
   "metadata": {},
   "outputs": [],
   "source": [
    "now = datetime.datetime.now()\n",
    "tensorflow_log_dir = \"Graph/\" + now.strftime(\"%Y%m%d-%H%M%S\") + \"/\""
   ]
  },
  {
   "cell_type": "code",
   "execution_count": 41,
   "metadata": {},
   "outputs": [],
   "source": [
    "tensorboard_callback = keras.callbacks.TensorBoard(log_dir=tensorflow_log_dir, histogram_freq=0,  \n",
    "          write_graph=True, write_images=False)"
   ]
  },
  {
   "cell_type": "code",
   "execution_count": 42,
   "metadata": {},
   "outputs": [
    {
     "name": "stdout",
     "output_type": "stream",
     "text": [
      "Epoch 1/100\n",
      "79/78 [==============================] - 58s 737ms/step - loss: 2.1623 - acc: 0.1780 - val_loss: 2.2387 - val_acc: 0.2114\n",
      "Epoch 2/100\n",
      "79/78 [==============================] - 47s 595ms/step - loss: 1.8125 - acc: 0.3381 - val_loss: 1.9173 - val_acc: 0.3048\n",
      "Epoch 3/100\n",
      "79/78 [==============================] - 46s 589ms/step - loss: 1.4789 - acc: 0.4978 - val_loss: 1.4590 - val_acc: 0.5247\n",
      "Epoch 4/100\n",
      "79/78 [==============================] - 46s 585ms/step - loss: 1.1987 - acc: 0.5788 - val_loss: 1.2419 - val_acc: 0.5704\n",
      "Epoch 5/100\n",
      "79/78 [==============================] - 46s 587ms/step - loss: 1.0931 - acc: 0.6157 - val_loss: 1.1104 - val_acc: 0.6068\n",
      "Epoch 6/100\n",
      "79/78 [==============================] - 46s 582ms/step - loss: 1.0296 - acc: 0.6357 - val_loss: 1.0828 - val_acc: 0.6192\n",
      "Epoch 7/100\n",
      "79/78 [==============================] - 47s 591ms/step - loss: 0.9687 - acc: 0.6595 - val_loss: 1.0504 - val_acc: 0.6262\n",
      "Epoch 8/100\n",
      "79/78 [==============================] - 47s 590ms/step - loss: 0.9294 - acc: 0.6711 - val_loss: 0.9824 - val_acc: 0.6526\n",
      "Epoch 9/100\n",
      "79/78 [==============================] - 47s 592ms/step - loss: 0.8806 - acc: 0.6894 - val_loss: 0.9604 - val_acc: 0.6669\n",
      "Epoch 10/100\n",
      "79/78 [==============================] - 47s 590ms/step - loss: 0.8540 - acc: 0.6990 - val_loss: 0.9142 - val_acc: 0.6815\n",
      "Epoch 11/100\n",
      "79/78 [==============================] - 47s 590ms/step - loss: 0.8221 - acc: 0.7118 - val_loss: 0.8882 - val_acc: 0.6912\n",
      "Epoch 12/100\n",
      "79/78 [==============================] - 46s 586ms/step - loss: 0.8030 - acc: 0.7155 - val_loss: 0.8706 - val_acc: 0.6969\n",
      "Epoch 13/100\n",
      "79/78 [==============================] - 46s 586ms/step - loss: 0.7692 - acc: 0.7273 - val_loss: 0.8573 - val_acc: 0.7052\n",
      "Epoch 14/100\n",
      "79/78 [==============================] - 46s 586ms/step - loss: 0.7526 - acc: 0.7325 - val_loss: 0.8289 - val_acc: 0.7101\n",
      "Epoch 15/100\n",
      "79/78 [==============================] - 46s 584ms/step - loss: 0.7357 - acc: 0.7410 - val_loss: 0.8509 - val_acc: 0.7052\n",
      "Epoch 16/100\n",
      "79/78 [==============================] - 47s 591ms/step - loss: 0.7134 - acc: 0.7466 - val_loss: 0.8231 - val_acc: 0.7157\n",
      "Epoch 17/100\n",
      "79/78 [==============================] - 46s 587ms/step - loss: 0.6888 - acc: 0.7588 - val_loss: 0.8197 - val_acc: 0.7156\n",
      "Epoch 18/100\n",
      "79/78 [==============================] - 46s 589ms/step - loss: 0.6796 - acc: 0.7601 - val_loss: 0.8165 - val_acc: 0.7082\n",
      "Epoch 19/100\n",
      "79/78 [==============================] - 46s 584ms/step - loss: 0.6557 - acc: 0.7685 - val_loss: 0.8077 - val_acc: 0.7186\n",
      "Epoch 20/100\n",
      "79/78 [==============================] - 46s 588ms/step - loss: 0.6465 - acc: 0.7730 - val_loss: 0.7869 - val_acc: 0.7271\n",
      "Epoch 21/100\n",
      "79/78 [==============================] - 46s 587ms/step - loss: 0.6302 - acc: 0.7772 - val_loss: 0.7808 - val_acc: 0.7317\n",
      "Epoch 22/100\n",
      "79/78 [==============================] - 46s 585ms/step - loss: 0.6163 - acc: 0.7804 - val_loss: 0.7943 - val_acc: 0.7274\n",
      "Epoch 23/100\n",
      "79/78 [==============================] - 46s 586ms/step - loss: 0.5945 - acc: 0.7890 - val_loss: 0.7988 - val_acc: 0.7259\n",
      "Epoch 24/100\n",
      "79/78 [==============================] - 47s 589ms/step - loss: 0.5997 - acc: 0.7864 - val_loss: 0.7812 - val_acc: 0.7347\n",
      "Epoch 25/100\n",
      "79/78 [==============================] - 46s 587ms/step - loss: 0.5835 - acc: 0.7942 - val_loss: 0.7787 - val_acc: 0.7385\n",
      "Epoch 26/100\n",
      "79/78 [==============================] - 46s 586ms/step - loss: 0.5581 - acc: 0.8022 - val_loss: 0.7598 - val_acc: 0.7429\n",
      "Epoch 27/100\n",
      "79/78 [==============================] - 46s 585ms/step - loss: 0.5613 - acc: 0.8004 - val_loss: 0.7543 - val_acc: 0.7439\n",
      "Epoch 28/100\n",
      "79/78 [==============================] - 47s 590ms/step - loss: 0.5445 - acc: 0.8059 - val_loss: 0.7400 - val_acc: 0.7461\n",
      "Epoch 29/100\n",
      "79/78 [==============================] - 47s 589ms/step - loss: 0.5344 - acc: 0.8116 - val_loss: 0.7292 - val_acc: 0.7531\n",
      "Epoch 30/100\n",
      "79/78 [==============================] - 46s 586ms/step - loss: 0.5245 - acc: 0.8144 - val_loss: 0.7432 - val_acc: 0.7539\n",
      "Epoch 31/100\n",
      "79/78 [==============================] - 46s 582ms/step - loss: 0.5076 - acc: 0.8183 - val_loss: 0.7446 - val_acc: 0.7520\n",
      "Epoch 32/100\n",
      "79/78 [==============================] - 46s 584ms/step - loss: 0.4973 - acc: 0.8215 - val_loss: 0.7495 - val_acc: 0.7499\n",
      "Epoch 33/100\n",
      "79/78 [==============================] - 46s 587ms/step - loss: 0.4946 - acc: 0.8242 - val_loss: 0.7492 - val_acc: 0.7508\n",
      "Epoch 34/100\n",
      "79/78 [==============================] - 47s 589ms/step - loss: 0.4838 - acc: 0.8307 - val_loss: 0.7439 - val_acc: 0.7580\n",
      "Epoch 35/100\n",
      "79/78 [==============================] - 47s 591ms/step - loss: 0.4740 - acc: 0.8330 - val_loss: 0.7632 - val_acc: 0.7459\n",
      "Epoch 36/100\n",
      "79/78 [==============================] - 46s 587ms/step - loss: 0.4686 - acc: 0.8326 - val_loss: 0.7670 - val_acc: 0.7502\n",
      "Epoch 37/100\n",
      "79/78 [==============================] - 47s 589ms/step - loss: 0.4552 - acc: 0.8386 - val_loss: 0.7503 - val_acc: 0.7579\n",
      "Epoch 38/100\n",
      "79/78 [==============================] - 46s 589ms/step - loss: 0.4561 - acc: 0.8389 - val_loss: 0.7699 - val_acc: 0.7515\n",
      "Epoch 39/100\n",
      "79/78 [==============================] - 47s 591ms/step - loss: 0.4440 - acc: 0.8416 - val_loss: 0.7404 - val_acc: 0.7628\n",
      "Epoch 40/100\n",
      "79/78 [==============================] - 47s 590ms/step - loss: 0.4384 - acc: 0.8446 - val_loss: 0.7606 - val_acc: 0.7567\n",
      "Epoch 41/100\n",
      "79/78 [==============================] - 47s 589ms/step - loss: 0.4296 - acc: 0.8465 - val_loss: 0.7480 - val_acc: 0.7608\n",
      "Epoch 42/100\n",
      "79/78 [==============================] - 46s 587ms/step - loss: 0.4179 - acc: 0.8532 - val_loss: 0.7479 - val_acc: 0.7588\n",
      "Epoch 43/100\n",
      "79/78 [==============================] - 46s 588ms/step - loss: 0.4152 - acc: 0.8513 - val_loss: 0.7423 - val_acc: 0.7583\n",
      "Epoch 44/100\n",
      "79/78 [==============================] - 46s 583ms/step - loss: 0.4113 - acc: 0.8549 - val_loss: 0.7473 - val_acc: 0.7574\n",
      "Epoch 45/100\n",
      "79/78 [==============================] - 46s 582ms/step - loss: 0.3931 - acc: 0.8618 - val_loss: 0.7396 - val_acc: 0.7654\n",
      "Epoch 46/100\n",
      "79/78 [==============================] - 46s 584ms/step - loss: 0.3914 - acc: 0.8617 - val_loss: 0.7491 - val_acc: 0.7642\n",
      "Epoch 47/100\n",
      "79/78 [==============================] - 46s 584ms/step - loss: 0.3786 - acc: 0.8649 - val_loss: 0.7245 - val_acc: 0.7671\n",
      "Epoch 48/100\n",
      "79/78 [==============================] - 46s 588ms/step - loss: 0.3722 - acc: 0.8656 - val_loss: 0.7587 - val_acc: 0.7655\n",
      "Epoch 49/100\n",
      "79/78 [==============================] - 46s 583ms/step - loss: 0.3671 - acc: 0.8697 - val_loss: 0.7441 - val_acc: 0.7657\n",
      "Epoch 50/100\n",
      "79/78 [==============================] - 46s 580ms/step - loss: 0.3657 - acc: 0.8686 - val_loss: 0.7589 - val_acc: 0.7631\n",
      "Epoch 51/100\n",
      "79/78 [==============================] - 46s 578ms/step - loss: 0.3559 - acc: 0.8729 - val_loss: 0.7316 - val_acc: 0.7669\n",
      "Epoch 52/100\n",
      "79/78 [==============================] - 46s 579ms/step - loss: 0.3533 - acc: 0.8752 - val_loss: 0.7529 - val_acc: 0.7704\n",
      "Epoch 53/100\n",
      "79/78 [==============================] - 46s 583ms/step - loss: 0.3434 - acc: 0.8772 - val_loss: 0.7922 - val_acc: 0.7653\n",
      "Epoch 54/100\n",
      "79/78 [==============================] - 46s 580ms/step - loss: 0.3347 - acc: 0.8812 - val_loss: 0.7730 - val_acc: 0.7652\n",
      "Epoch 55/100\n",
      "79/78 [==============================] - 46s 582ms/step - loss: 0.3373 - acc: 0.8812 - val_loss: 0.8001 - val_acc: 0.7606\n",
      "Epoch 56/100\n",
      "79/78 [==============================] - 46s 580ms/step - loss: 0.3271 - acc: 0.8848 - val_loss: 0.7848 - val_acc: 0.7643\n",
      "Epoch 57/100\n",
      "79/78 [==============================] - 46s 586ms/step - loss: 0.3197 - acc: 0.8862 - val_loss: 0.7654 - val_acc: 0.7665\n",
      "Epoch 58/100\n",
      "79/78 [==============================] - 46s 583ms/step - loss: 0.3134 - acc: 0.8878 - val_loss: 0.7452 - val_acc: 0.7701\n",
      "Epoch 59/100\n",
      "79/78 [==============================] - 46s 583ms/step - loss: 0.3126 - acc: 0.8893 - val_loss: 0.7754 - val_acc: 0.7697\n",
      "Epoch 60/100\n",
      "79/78 [==============================] - 46s 582ms/step - loss: 0.3046 - acc: 0.8912 - val_loss: 0.8009 - val_acc: 0.7624\n",
      "Epoch 61/100\n",
      "79/78 [==============================] - 46s 586ms/step - loss: 0.2977 - acc: 0.8941 - val_loss: 0.7891 - val_acc: 0.7666\n"
     ]
    },
    {
     "name": "stdout",
     "output_type": "stream",
     "text": [
      "Epoch 62/100\n",
      "79/78 [==============================] - 46s 587ms/step - loss: 0.2961 - acc: 0.8946 - val_loss: 0.8006 - val_acc: 0.7735\n",
      "Epoch 63/100\n",
      "79/78 [==============================] - 46s 586ms/step - loss: 0.2985 - acc: 0.8950 - val_loss: 0.7801 - val_acc: 0.7689\n",
      "Epoch 64/100\n",
      "79/78 [==============================] - 46s 587ms/step - loss: 0.2821 - acc: 0.9003 - val_loss: 0.8079 - val_acc: 0.7666\n",
      "Epoch 65/100\n",
      "79/78 [==============================] - 46s 588ms/step - loss: 0.2851 - acc: 0.9000 - val_loss: 0.8065 - val_acc: 0.7710\n",
      "Epoch 66/100\n",
      "79/78 [==============================] - 47s 589ms/step - loss: 0.2745 - acc: 0.9033 - val_loss: 0.8076 - val_acc: 0.7655\n",
      "Epoch 67/100\n",
      "79/78 [==============================] - 46s 586ms/step - loss: 0.2735 - acc: 0.9029 - val_loss: 0.8141 - val_acc: 0.7712\n",
      "Epoch 68/100\n",
      "79/78 [==============================] - 46s 587ms/step - loss: 0.2701 - acc: 0.9054 - val_loss: 0.8278 - val_acc: 0.7626\n",
      "Epoch 69/100\n",
      "79/78 [==============================] - 46s 586ms/step - loss: 0.2646 - acc: 0.9086 - val_loss: 0.7917 - val_acc: 0.7757\n",
      "Epoch 70/100\n",
      "79/78 [==============================] - 46s 588ms/step - loss: 0.2532 - acc: 0.9111 - val_loss: 0.8180 - val_acc: 0.7692\n",
      "Epoch 71/100\n",
      "79/78 [==============================] - 46s 586ms/step - loss: 0.2549 - acc: 0.9090 - val_loss: 0.7958 - val_acc: 0.7765\n",
      "Epoch 72/100\n",
      "79/78 [==============================] - 46s 588ms/step - loss: 0.2525 - acc: 0.9112 - val_loss: 0.8072 - val_acc: 0.7734\n",
      "Epoch 73/100\n",
      "79/78 [==============================] - 46s 587ms/step - loss: 0.2466 - acc: 0.9141 - val_loss: 0.8226 - val_acc: 0.7682\n",
      "Epoch 74/100\n",
      "79/78 [==============================] - 46s 587ms/step - loss: 0.2458 - acc: 0.9131 - val_loss: 0.8390 - val_acc: 0.7696\n",
      "Epoch 75/100\n",
      "79/78 [==============================] - 46s 588ms/step - loss: 0.2388 - acc: 0.9174 - val_loss: 0.8327 - val_acc: 0.7732\n",
      "Epoch 76/100\n",
      "79/78 [==============================] - 47s 589ms/step - loss: 0.2363 - acc: 0.9161 - val_loss: 0.8429 - val_acc: 0.7735\n",
      "Epoch 77/100\n",
      "79/78 [==============================] - 46s 587ms/step - loss: 0.2354 - acc: 0.9169 - val_loss: 0.8294 - val_acc: 0.7732\n",
      "Epoch 78/100\n",
      "79/78 [==============================] - 46s 588ms/step - loss: 0.2295 - acc: 0.9202 - val_loss: 0.8241 - val_acc: 0.7767\n",
      "Epoch 79/100\n",
      "79/78 [==============================] - 46s 589ms/step - loss: 0.2256 - acc: 0.9199 - val_loss: 0.8461 - val_acc: 0.7734\n",
      "Epoch 80/100\n",
      "79/78 [==============================] - 46s 587ms/step - loss: 0.2261 - acc: 0.9206 - val_loss: 0.8733 - val_acc: 0.7696\n",
      "Epoch 81/100\n",
      "79/78 [==============================] - 46s 588ms/step - loss: 0.2192 - acc: 0.9232 - val_loss: 0.8833 - val_acc: 0.7718\n",
      "Epoch 82/100\n",
      "79/78 [==============================] - 46s 582ms/step - loss: 0.2180 - acc: 0.9217 - val_loss: 0.8652 - val_acc: 0.7781\n",
      "Epoch 83/100\n",
      "79/78 [==============================] - 46s 583ms/step - loss: 0.2130 - acc: 0.9252 - val_loss: 0.8384 - val_acc: 0.7775\n",
      "Epoch 84/100\n",
      "79/78 [==============================] - 46s 583ms/step - loss: 0.2048 - acc: 0.9278 - val_loss: 0.8870 - val_acc: 0.7685\n",
      "Epoch 85/100\n",
      "79/78 [==============================] - 46s 587ms/step - loss: 0.2018 - acc: 0.9293 - val_loss: 0.8407 - val_acc: 0.7760\n",
      "Epoch 86/100\n",
      "79/78 [==============================] - 46s 583ms/step - loss: 0.1976 - acc: 0.9306 - val_loss: 0.8786 - val_acc: 0.7777\n",
      "Epoch 87/100\n",
      "79/78 [==============================] - 46s 584ms/step - loss: 0.2006 - acc: 0.9272 - val_loss: 0.8378 - val_acc: 0.7773\n",
      "Epoch 88/100\n",
      "79/78 [==============================] - 46s 582ms/step - loss: 0.2029 - acc: 0.9306 - val_loss: 0.8966 - val_acc: 0.7710\n",
      "Epoch 89/100\n",
      "79/78 [==============================] - 46s 587ms/step - loss: 0.1911 - acc: 0.9334 - val_loss: 0.8892 - val_acc: 0.7690\n",
      "Epoch 90/100\n",
      "79/78 [==============================] - 47s 590ms/step - loss: 0.1921 - acc: 0.9331 - val_loss: 0.8789 - val_acc: 0.7775\n",
      "Epoch 91/100\n",
      "79/78 [==============================] - 47s 592ms/step - loss: 0.1908 - acc: 0.9334 - val_loss: 0.8680 - val_acc: 0.7749\n",
      "Epoch 92/100\n",
      "79/78 [==============================] - 46s 588ms/step - loss: 0.1872 - acc: 0.9347 - val_loss: 0.9024 - val_acc: 0.7699\n",
      "Epoch 93/100\n",
      "79/78 [==============================] - 46s 587ms/step - loss: 0.1850 - acc: 0.9349 - val_loss: 0.8666 - val_acc: 0.7806\n",
      "Epoch 94/100\n",
      "79/78 [==============================] - 46s 588ms/step - loss: 0.1853 - acc: 0.9352 - val_loss: 0.8941 - val_acc: 0.7754\n",
      "Epoch 95/100\n",
      "79/78 [==============================] - 47s 590ms/step - loss: 0.1782 - acc: 0.9378 - val_loss: 0.8592 - val_acc: 0.7788\n",
      "Epoch 96/100\n",
      "79/78 [==============================] - 46s 588ms/step - loss: 0.1769 - acc: 0.9397 - val_loss: 0.8539 - val_acc: 0.7782\n",
      "Epoch 97/100\n",
      "79/78 [==============================] - 46s 587ms/step - loss: 0.1763 - acc: 0.9386 - val_loss: 0.8738 - val_acc: 0.7752\n",
      "Epoch 98/100\n",
      "79/78 [==============================] - 46s 588ms/step - loss: 0.1719 - acc: 0.9415 - val_loss: 0.9079 - val_acc: 0.7687\n",
      "Epoch 99/100\n",
      "79/78 [==============================] - 46s 587ms/step - loss: 0.1687 - acc: 0.9407 - val_loss: 0.9247 - val_acc: 0.7683\n",
      "Epoch 100/100\n",
      "79/78 [==============================] - 47s 590ms/step - loss: 0.1732 - acc: 0.9399 - val_loss: 0.9015 - val_acc: 0.7819\n"
     ]
    },
    {
     "data": {
      "text/plain": [
       "<keras.callbacks.History at 0x7fb0b9559828>"
      ]
     },
     "execution_count": 42,
     "metadata": {},
     "output_type": "execute_result"
    }
   ],
   "source": [
    "xception.fit_generator(datagen.flow(x_train, y_train, batch_size=BATCH_SIZE),\n",
    "                        steps_per_epoch=len(x_train) / BATCH_SIZE,\n",
    "                        validation_data=ImageDataGenerator().flow(x_val, y_val, batch_size=BATCH_SIZE),\n",
    "                        validation_steps=len(x_val) / BATCH_SIZE,\n",
    "                        epochs=EPOCHS, \n",
    "                        callbacks=[tensorboard_callback], \n",
    "                        verbose=1)"
   ]
  },
  {
   "cell_type": "code",
   "execution_count": 43,
   "metadata": {},
   "outputs": [
    {
     "name": "stdout",
     "output_type": "stream",
     "text": [
      "10000/10000 [==============================] - 10s 962us/step\n"
     ]
    },
    {
     "data": {
      "text/plain": [
       "[0.8776747555255889, 0.8061]"
      ]
     },
     "execution_count": 43,
     "metadata": {},
     "output_type": "execute_result"
    }
   ],
   "source": [
    "xception.evaluate(x_test, y_test, verbose=1)"
   ]
  },
  {
   "cell_type": "code",
   "execution_count": null,
   "metadata": {},
   "outputs": [],
   "source": []
  }
 ],
 "metadata": {
  "kernelspec": {
   "display_name": "Python 3",
   "language": "python",
   "name": "python3"
  },
  "language_info": {
   "codemirror_mode": {
    "name": "ipython",
    "version": 3
   },
   "file_extension": ".py",
   "mimetype": "text/x-python",
   "name": "python",
   "nbconvert_exporter": "python",
   "pygments_lexer": "ipython3",
   "version": "3.5.3"
  }
 },
 "nbformat": 4,
 "nbformat_minor": 2
}
