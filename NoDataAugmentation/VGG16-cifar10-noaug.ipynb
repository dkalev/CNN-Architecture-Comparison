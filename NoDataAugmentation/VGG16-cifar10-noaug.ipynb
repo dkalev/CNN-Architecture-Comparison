{
 "cells": [
  {
   "cell_type": "code",
   "execution_count": 1,
   "metadata": {},
   "outputs": [
    {
     "name": "stderr",
     "output_type": "stream",
     "text": [
      "Using TensorFlow backend.\n"
     ]
    }
   ],
   "source": [
    "import keras"
   ]
  },
  {
   "cell_type": "code",
   "execution_count": 2,
   "metadata": {},
   "outputs": [],
   "source": [
    "from keras.applications.vgg16 import VGG16\n",
    "from keras.layers import Input, GlobalAveragePooling2D, Dense\n",
    "from keras.models import Model\n",
    "from keras.optimizers import SGD\n",
    "import numpy as np\n",
    "import pickle as pkl\n",
    "import datetime"
   ]
  },
  {
   "cell_type": "markdown",
   "metadata": {},
   "source": [
    "# Load Cifar10 dataset"
   ]
  },
  {
   "cell_type": "code",
   "execution_count": 20,
   "metadata": {},
   "outputs": [],
   "source": [
    "(x_train, y_train), (x_test, y_test) = keras.datasets.cifar10.load_data()"
   ]
  },
  {
   "cell_type": "code",
   "execution_count": 4,
   "metadata": {},
   "outputs": [
    {
     "name": "stdout",
     "output_type": "stream",
     "text": [
      "The training set has 50000 samples with dimentions (32, 32, 3).\n",
      "The test set has 10000 samples with dimentions (32, 32, 3).\n"
     ]
    }
   ],
   "source": [
    "print('The training set has {0} samples with dimentions {1}.'.format(x_train.shape[0], x_train.shape[1:]))\n",
    "print('The test set has {0} samples with dimentions {1}.'.format(x_test.shape[0], x_test.shape[1:]))"
   ]
  },
  {
   "cell_type": "code",
   "execution_count": 26,
   "metadata": {},
   "outputs": [],
   "source": [
    "NUM_CLASSES = 10\n",
    "IMG_ROWS, IMG_COLS = 32, 32\n",
    "BATCH_SIZE = 512\n",
    "EPOCHS = 20\n",
    "VAL_SPLIT = .2\n",
    "LEARNING_RATE = 1e-2\n",
    "SGD_MOMENTUM = .9"
   ]
  },
  {
   "cell_type": "markdown",
   "metadata": {},
   "source": [
    "# Preprocess data"
   ]
  },
  {
   "cell_type": "code",
   "execution_count": 21,
   "metadata": {},
   "outputs": [],
   "source": [
    "x_train = x_train.astype('float32')\n",
    "x_test = x_test.astype('float32')"
   ]
  },
  {
   "cell_type": "code",
   "execution_count": 22,
   "metadata": {},
   "outputs": [],
   "source": [
    "x_train -= np.mean(x_train)\n",
    "x_test -= np.mean(x_test)"
   ]
  },
  {
   "cell_type": "code",
   "execution_count": 23,
   "metadata": {},
   "outputs": [],
   "source": [
    "x_train /= np.std(x_train)\n",
    "x_test /= np.std(x_test)"
   ]
  },
  {
   "cell_type": "code",
   "execution_count": 24,
   "metadata": {},
   "outputs": [],
   "source": [
    "y_train = keras.utils.to_categorical(y_train, NUM_CLASSES)\n",
    "y_test = keras.utils.to_categorical(y_test, NUM_CLASSES)"
   ]
  },
  {
   "cell_type": "code",
   "execution_count": null,
   "metadata": {},
   "outputs": [],
   "source": [
    "val_split = int((1-VAL_SPLIT)*len(x_train))\n",
    "x_train , x_val = x_train[:val_split], x_train[val_split:]\n",
    "y_train, y_val = y_train[:val_split], y_train[val_split:]"
   ]
  },
  {
   "cell_type": "markdown",
   "metadata": {},
   "source": [
    "# Build model"
   ]
  },
  {
   "cell_type": "markdown",
   "metadata": {},
   "source": [
    "### Clear session from previou"
   ]
  },
  {
   "cell_type": "code",
   "execution_count": 11,
   "metadata": {},
   "outputs": [],
   "source": [
    "input_tensor = Input(shape=(IMG_ROWS, IMG_COLS, 3))"
   ]
  },
  {
   "cell_type": "code",
   "execution_count": 12,
   "metadata": {},
   "outputs": [],
   "source": [
    "base_model = VGG16(include_top=False, input_tensor=input_tensor)"
   ]
  },
  {
   "cell_type": "code",
   "execution_count": 14,
   "metadata": {},
   "outputs": [],
   "source": [
    "x = base_model.output\n",
    "x = GlobalAveragePooling2D()(x)\n",
    "x = Dense(1024, activation='relu')(x)\n",
    "predictions = Dense(NUM_CLASSES, activation='softmax')(x)"
   ]
  },
  {
   "cell_type": "code",
   "execution_count": 15,
   "metadata": {},
   "outputs": [],
   "source": [
    "vgg16 = Model(inputs=base_model.input, outputs=predictions)"
   ]
  },
  {
   "cell_type": "code",
   "execution_count": 16,
   "metadata": {},
   "outputs": [],
   "source": [
    "vgg16.compile(optimizer=SGD(lr=LEARNING_RATE, momentum=SGD_MOMENTUM), loss='categorical_crossentropy', metrics=['accuracy'])"
   ]
  },
  {
   "cell_type": "markdown",
   "metadata": {},
   "source": [
    "# Train model"
   ]
  },
  {
   "cell_type": "code",
   "execution_count": 27,
   "metadata": {},
   "outputs": [],
   "source": [
    "now = datetime.datetime.now()\n",
    "tensorflow_log_dir = \"Graph/\" + now.strftime(\"%Y%m%d-%H%M%S\") + \"/\""
   ]
  },
  {
   "cell_type": "code",
   "execution_count": 28,
   "metadata": {},
   "outputs": [],
   "source": [
    "tensorboard_callback = keras.callbacks.TensorBoard(log_dir=tensorflow_log_dir, histogram_freq=0,  \n",
    "          write_graph=False, write_images=False)"
   ]
  },
  {
   "cell_type": "code",
   "execution_count": null,
   "metadata": {},
   "outputs": [
    {
     "name": "stdout",
     "output_type": "stream",
     "text": [
      "Epoch 1/10\n",
      "50000/50000 [==============================] - 45s 898us/step - loss: 0.2508 - acc: 0.9142\n",
      "Epoch 2/10\n",
      "50000/50000 [==============================] - 35s 705us/step - loss: 0.2108 - acc: 0.9291\n",
      "Epoch 3/10\n",
      "50000/50000 [==============================] - 35s 702us/step - loss: 0.1694 - acc: 0.9430\n",
      "Epoch 4/10\n",
      "50000/50000 [==============================] - 35s 699us/step - loss: 0.1592 - acc: 0.9511\n",
      "Epoch 5/10\n",
      "50000/50000 [==============================] - 35s 702us/step - loss: 0.1213 - acc: 0.9621\n",
      "Epoch 6/10\n",
      "50000/50000 [==============================] - 35s 702us/step - loss: 0.1019 - acc: 0.9706\n",
      "Epoch 7/10\n",
      "50000/50000 [==============================] - 35s 701us/step - loss: 0.1113 - acc: 0.9695\n",
      "Epoch 8/10\n",
      "50000/50000 [==============================] - 35s 701us/step - loss: 0.1120 - acc: 0.9721\n",
      "Epoch 9/10\n",
      "36352/50000 [====================>.........] - ETA: 9s - loss: 0.0893 - acc: 0.9778"
     ]
    }
   ],
   "source": [
    "vgg16.fit(x_train, y_train, batch_size=BATCH_SIZE, epochs=EPOCHS, callbacks=[tensorboard_callback], verbose=1)"
   ]
  },
  {
   "cell_type": "code",
   "execution_count": 27,
   "metadata": {},
   "outputs": [
    {
     "name": "stdout",
     "output_type": "stream",
     "text": [
      "10000/10000 [==============================] - 3s 271us/step\n"
     ]
    },
    {
     "data": {
      "text/plain": [
       "[0.6099598478317261, 0.8641]"
      ]
     },
     "execution_count": 27,
     "metadata": {},
     "output_type": "execute_result"
    }
   ],
   "source": [
    "vgg16.evaluate(x_test, y_test, batch_size=BATCH_SIZE, verbose=1)"
   ]
  },
  {
   "cell_type": "code",
   "execution_count": null,
   "metadata": {},
   "outputs": [],
   "source": []
  }
 ],
 "metadata": {
  "kernelspec": {
   "display_name": "Python 3",
   "language": "python",
   "name": "python3"
  },
  "language_info": {
   "codemirror_mode": {
    "name": "ipython",
    "version": 3
   },
   "file_extension": ".py",
   "mimetype": "text/x-python",
   "name": "python",
   "nbconvert_exporter": "python",
   "pygments_lexer": "ipython3",
   "version": "3.6.4"
  }
 },
 "nbformat": 4,
 "nbformat_minor": 2
}
