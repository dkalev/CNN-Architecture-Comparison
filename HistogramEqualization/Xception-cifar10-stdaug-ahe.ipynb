{
 "cells": [
  {
   "cell_type": "code",
   "execution_count": 1,
   "metadata": {},
   "outputs": [
    {
     "name": "stderr",
     "output_type": "stream",
     "text": [
      "Using TensorFlow backend.\n"
     ]
    }
   ],
   "source": [
    "import keras"
   ]
  },
  {
   "cell_type": "code",
   "execution_count": 2,
   "metadata": {},
   "outputs": [],
   "source": [
    "from keras.applications.xception import Xception\n",
    "from keras.preprocessing.image import ImageDataGenerator\n",
    "from keras.layers import Input, GlobalAveragePooling2D, Dense\n",
    "from keras.models import Model\n",
    "from keras.optimizers import SGD\n",
    "import numpy as np\n",
    "import pickle as pkl\n",
    "import datetime\n",
    "from skimage import exposure"
   ]
  },
  {
   "cell_type": "markdown",
   "metadata": {},
   "source": [
    "# Load Cifar10 dataset"
   ]
  },
  {
   "cell_type": "code",
   "execution_count": 3,
   "metadata": {},
   "outputs": [],
   "source": [
    "(x_train, y_train), (x_test, y_test) = keras.datasets.cifar10.load_data()"
   ]
  },
  {
   "cell_type": "code",
   "execution_count": 4,
   "metadata": {},
   "outputs": [
    {
     "name": "stdout",
     "output_type": "stream",
     "text": [
      "The training set has 50000 samples with dimentions (32, 32, 3).\n",
      "The test set has 10000 samples with dimentions (32, 32, 3).\n"
     ]
    }
   ],
   "source": [
    "print('The training set has {0} samples with dimentions {1}.'.format(x_train.shape[0], x_train.shape[1:]))\n",
    "print('The test set has {0} samples with dimentions {1}.'.format(x_test.shape[0], x_test.shape[1:]))"
   ]
  },
  {
   "cell_type": "code",
   "execution_count": 5,
   "metadata": {},
   "outputs": [],
   "source": [
    "NUM_CLASSES = 10\n",
    "IMG_ROWS, IMG_COLS = 32, 32\n",
    "BATCH_SIZE = 512\n",
    "EPOCHS = 20\n",
    "VAL_SPLIT = .2\n",
    "LEARNING_RATE = 1e-2\n",
    "SGD_MOMENTUM = .9"
   ]
  },
  {
   "cell_type": "markdown",
   "metadata": {},
   "source": [
    "# Preprocess data"
   ]
  },
  {
   "cell_type": "code",
   "execution_count": 6,
   "metadata": {},
   "outputs": [],
   "source": [
    "x_train = x_train.astype('float32')\n",
    "x_test = x_test.astype('float32')"
   ]
  },
  {
   "cell_type": "code",
   "execution_count": 7,
   "metadata": {},
   "outputs": [],
   "source": [
    "x_train -= np.mean(x_train)\n",
    "x_test -= np.mean(x_test)"
   ]
  },
  {
   "cell_type": "code",
   "execution_count": 8,
   "metadata": {},
   "outputs": [],
   "source": [
    "x_train /= np.std(x_train)\n",
    "x_test /= np.std(x_test)"
   ]
  },
  {
   "cell_type": "code",
   "execution_count": 9,
   "metadata": {},
   "outputs": [],
   "source": [
    "y_train = keras.utils.to_categorical(y_train, NUM_CLASSES)\n",
    "y_test = keras.utils.to_categorical(y_test, NUM_CLASSES)"
   ]
  },
  {
   "cell_type": "code",
   "execution_count": 10,
   "metadata": {},
   "outputs": [],
   "source": [
    "validation_split = int((1-VAL_SPLIT)*len(x_train))\n",
    "x_train, x_val = x_train[:validation_split], x_train[validation_split:]\n",
    "y_train, y_val = y_train[:validation_split], y_train[validation_split:]"
   ]
  },
  {
   "cell_type": "code",
   "execution_count": 11,
   "metadata": {},
   "outputs": [],
   "source": [
    "def contrast_stretching(img):\n",
    "    p2, p98 = np.percentile(img, (2, 98))\n",
    "    return exposure.rescale_intensity(img, in_range=(p2, p98))"
   ]
  },
  {
   "cell_type": "code",
   "execution_count": 12,
   "metadata": {},
   "outputs": [],
   "source": [
    "datagen = ImageDataGenerator(preprocessing_function=contrast_stretching)"
   ]
  },
  {
   "cell_type": "markdown",
   "metadata": {},
   "source": [
    "# Build model"
   ]
  },
  {
   "cell_type": "code",
   "execution_count": 13,
   "metadata": {},
   "outputs": [],
   "source": [
    "input_tensor = Input(shape=(IMG_ROWS, IMG_COLS, 3))"
   ]
  },
  {
   "cell_type": "code",
   "execution_count": 14,
   "metadata": {},
   "outputs": [],
   "source": [
    "base_model = Xception(include_top=False, input_tensor=input_tensor)"
   ]
  },
  {
   "cell_type": "code",
   "execution_count": 16,
   "metadata": {},
   "outputs": [],
   "source": [
    "x = base_model.output\n",
    "x = GlobalAveragePooling2D()(x)\n",
    "x = Dense(1024, activation='relu')(x)\n",
    "predictions = Dense(NUM_CLASSES, activation='softmax')(x)"
   ]
  },
  {
   "cell_type": "code",
   "execution_count": 17,
   "metadata": {},
   "outputs": [],
   "source": [
    "xception = Model(inputs=base_model.input, outputs=predictions)"
   ]
  },
  {
   "cell_type": "code",
   "execution_count": 18,
   "metadata": {},
   "outputs": [],
   "source": [
    "xception.compile(optimizer=SGD(lr=LEARNING_RATE, momentum=SGD_MOMENTUM), loss='categorical_crossentropy', metrics=['accuracy'])"
   ]
  },
  {
   "cell_type": "markdown",
   "metadata": {},
   "source": [
    "# Train model"
   ]
  },
  {
   "cell_type": "code",
   "execution_count": 19,
   "metadata": {},
   "outputs": [],
   "source": [
    "now = datetime.datetime.now()\n",
    "tensorflow_log_dir = \"Graph/\" + now.strftime(\"%Y%m%d-%H%M%S\") + \"/\""
   ]
  },
  {
   "cell_type": "code",
   "execution_count": 20,
   "metadata": {},
   "outputs": [],
   "source": [
    "tensorboard_callback = keras.callbacks.TensorBoard(log_dir=tensorflow_log_dir, histogram_freq=0,  \n",
    "          write_graph=False, write_images=False)"
   ]
  },
  {
   "cell_type": "code",
   "execution_count": 21,
   "metadata": {},
   "outputs": [
    {
     "name": "stdout",
     "output_type": "stream",
     "text": [
      "Epoch 1/100\n",
      "79/78 [==============================] - 80s 1s/step - loss: 2.0397 - acc: 0.2715 - val_loss: 1.8602 - val_acc: 0.3744\n",
      "Epoch 2/100\n",
      "79/78 [==============================] - 59s 748ms/step - loss: 1.6514 - acc: 0.4541 - val_loss: 1.5482 - val_acc: 0.4792\n",
      "Epoch 3/100\n",
      "79/78 [==============================] - 60s 762ms/step - loss: 1.3034 - acc: 0.5455 - val_loss: 1.2660 - val_acc: 0.5568\n",
      "Epoch 4/100\n",
      "79/78 [==============================] - 61s 769ms/step - loss: 1.1408 - acc: 0.5992 - val_loss: 1.1612 - val_acc: 0.5960\n",
      "Epoch 5/100\n",
      "79/78 [==============================] - 61s 766ms/step - loss: 1.0467 - acc: 0.6310 - val_loss: 1.0876 - val_acc: 0.6199\n",
      "Epoch 6/100\n",
      "79/78 [==============================] - 61s 766ms/step - loss: 0.9864 - acc: 0.6531 - val_loss: 1.0227 - val_acc: 0.6403\n",
      "Epoch 7/100\n",
      "79/78 [==============================] - 60s 762ms/step - loss: 0.9392 - acc: 0.6692 - val_loss: 0.9933 - val_acc: 0.6447\n",
      "Epoch 8/100\n",
      "79/78 [==============================] - 60s 758ms/step - loss: 0.8943 - acc: 0.6856 - val_loss: 0.9552 - val_acc: 0.6633\n",
      "Epoch 9/100\n",
      "79/78 [==============================] - 60s 764ms/step - loss: 0.8524 - acc: 0.6994 - val_loss: 0.9043 - val_acc: 0.6840\n",
      "Epoch 10/100\n",
      "79/78 [==============================] - 60s 763ms/step - loss: 0.8354 - acc: 0.7061 - val_loss: 0.8966 - val_acc: 0.6826\n",
      "Epoch 11/100\n",
      "79/78 [==============================] - 60s 762ms/step - loss: 0.7989 - acc: 0.7182 - val_loss: 0.8656 - val_acc: 0.6990\n",
      "Epoch 12/100\n",
      "79/78 [==============================] - 60s 765ms/step - loss: 0.7767 - acc: 0.7262 - val_loss: 0.8665 - val_acc: 0.6975\n",
      "Epoch 13/100\n",
      "79/78 [==============================] - 60s 760ms/step - loss: 0.7521 - acc: 0.7351 - val_loss: 0.8272 - val_acc: 0.7069\n",
      "Epoch 14/100\n",
      "79/78 [==============================] - 60s 762ms/step - loss: 0.7305 - acc: 0.7423 - val_loss: 0.8113 - val_acc: 0.7158\n",
      "Epoch 15/100\n",
      "79/78 [==============================] - 60s 765ms/step - loss: 0.7100 - acc: 0.7504 - val_loss: 0.8274 - val_acc: 0.7135\n",
      "Epoch 16/100\n",
      "79/78 [==============================] - 60s 762ms/step - loss: 0.6928 - acc: 0.7555 - val_loss: 0.8061 - val_acc: 0.7179\n",
      "Epoch 17/100\n",
      "79/78 [==============================] - 61s 767ms/step - loss: 0.6714 - acc: 0.7627 - val_loss: 0.8050 - val_acc: 0.7148\n",
      "Epoch 18/100\n",
      "79/78 [==============================] - 60s 762ms/step - loss: 0.6606 - acc: 0.7670 - val_loss: 0.7743 - val_acc: 0.7323\n",
      "Epoch 19/100\n",
      "79/78 [==============================] - 60s 760ms/step - loss: 0.6482 - acc: 0.7702 - val_loss: 0.7820 - val_acc: 0.7293\n",
      "Epoch 20/100\n",
      "79/78 [==============================] - 60s 761ms/step - loss: 0.6256 - acc: 0.7811 - val_loss: 0.7940 - val_acc: 0.7265\n",
      "Epoch 21/100\n",
      "79/78 [==============================] - 60s 758ms/step - loss: 0.6181 - acc: 0.7810 - val_loss: 0.7549 - val_acc: 0.7371\n",
      "Epoch 22/100\n",
      "79/78 [==============================] - 60s 761ms/step - loss: 0.5942 - acc: 0.7893 - val_loss: 0.7763 - val_acc: 0.7368\n",
      "Epoch 23/100\n",
      "79/78 [==============================] - 60s 760ms/step - loss: 0.5975 - acc: 0.7907 - val_loss: 0.7597 - val_acc: 0.7348\n",
      "Epoch 24/100\n",
      "79/78 [==============================] - 60s 765ms/step - loss: 0.5803 - acc: 0.7946 - val_loss: 0.7489 - val_acc: 0.7467\n",
      "Epoch 25/100\n",
      "79/78 [==============================] - 60s 763ms/step - loss: 0.5666 - acc: 0.7988 - val_loss: 0.7409 - val_acc: 0.7494\n",
      "Epoch 26/100\n",
      "79/78 [==============================] - 60s 758ms/step - loss: 0.5575 - acc: 0.8049 - val_loss: 0.7255 - val_acc: 0.7552\n",
      "Epoch 27/100\n",
      "79/78 [==============================] - 60s 759ms/step - loss: 0.5405 - acc: 0.8113 - val_loss: 0.7342 - val_acc: 0.7573\n",
      "Epoch 28/100\n",
      "79/78 [==============================] - 60s 758ms/step - loss: 0.5336 - acc: 0.8099 - val_loss: 0.7615 - val_acc: 0.7441\n",
      "Epoch 29/100\n",
      "79/78 [==============================] - 60s 763ms/step - loss: 0.5271 - acc: 0.8114 - val_loss: 0.7228 - val_acc: 0.7542\n",
      "Epoch 30/100\n",
      "79/78 [==============================] - 61s 769ms/step - loss: 0.5164 - acc: 0.8189 - val_loss: 0.7223 - val_acc: 0.7572\n",
      "Epoch 31/100\n",
      "79/78 [==============================] - 60s 761ms/step - loss: 0.5017 - acc: 0.8226 - val_loss: 0.7406 - val_acc: 0.7534\n",
      "Epoch 32/100\n",
      "79/78 [==============================] - 60s 761ms/step - loss: 0.4966 - acc: 0.8267 - val_loss: 0.7306 - val_acc: 0.7540\n",
      "Epoch 33/100\n",
      "79/78 [==============================] - 61s 767ms/step - loss: 0.4829 - acc: 0.8280 - val_loss: 0.7330 - val_acc: 0.7554\n",
      "Epoch 34/100\n",
      "79/78 [==============================] - 60s 763ms/step - loss: 0.4736 - acc: 0.8321 - val_loss: 0.7221 - val_acc: 0.7551\n",
      "Epoch 35/100\n",
      "79/78 [==============================] - 60s 762ms/step - loss: 0.4657 - acc: 0.8344 - val_loss: 0.7179 - val_acc: 0.7621\n",
      "Epoch 36/100\n",
      "79/78 [==============================] - 60s 762ms/step - loss: 0.4634 - acc: 0.8358 - val_loss: 0.7218 - val_acc: 0.7688\n",
      "Epoch 37/100\n",
      "79/78 [==============================] - 60s 759ms/step - loss: 0.4565 - acc: 0.8397 - val_loss: 0.7199 - val_acc: 0.7625\n",
      "Epoch 38/100\n",
      "79/78 [==============================] - 60s 760ms/step - loss: 0.4454 - acc: 0.8416 - val_loss: 0.7222 - val_acc: 0.7594\n",
      "Epoch 39/100\n",
      "79/78 [==============================] - 61s 767ms/step - loss: 0.4283 - acc: 0.8505 - val_loss: 0.7188 - val_acc: 0.7722\n",
      "Epoch 40/100\n",
      "79/78 [==============================] - 61s 768ms/step - loss: 0.4232 - acc: 0.8498 - val_loss: 0.7346 - val_acc: 0.7649\n",
      "Epoch 41/100\n",
      "79/78 [==============================] - 60s 765ms/step - loss: 0.4246 - acc: 0.8507 - val_loss: 0.7436 - val_acc: 0.7646\n",
      "Epoch 42/100\n",
      "79/78 [==============================] - 60s 762ms/step - loss: 0.4148 - acc: 0.8524 - val_loss: 0.7248 - val_acc: 0.7632\n",
      "Epoch 43/100\n",
      "79/78 [==============================] - 60s 764ms/step - loss: 0.4038 - acc: 0.8568 - val_loss: 0.7473 - val_acc: 0.7616\n",
      "Epoch 44/100\n",
      "79/78 [==============================] - 60s 763ms/step - loss: 0.4043 - acc: 0.8575 - val_loss: 0.7566 - val_acc: 0.7647\n",
      "Epoch 45/100\n",
      "79/78 [==============================] - 60s 764ms/step - loss: 0.3905 - acc: 0.8636 - val_loss: 0.7304 - val_acc: 0.7667\n",
      "Epoch 46/100\n",
      "79/78 [==============================] - 60s 765ms/step - loss: 0.3833 - acc: 0.8618 - val_loss: 0.7350 - val_acc: 0.7698\n",
      "Epoch 47/100\n",
      "79/78 [==============================] - 60s 762ms/step - loss: 0.3735 - acc: 0.8676 - val_loss: 0.7500 - val_acc: 0.7626\n",
      "Epoch 48/100\n",
      "79/78 [==============================] - 60s 765ms/step - loss: 0.3732 - acc: 0.8687 - val_loss: 0.7219 - val_acc: 0.7690\n",
      "Epoch 49/100\n",
      "79/78 [==============================] - 61s 767ms/step - loss: 0.3631 - acc: 0.8707 - val_loss: 0.7409 - val_acc: 0.7648\n",
      "Epoch 50/100\n",
      "79/78 [==============================] - 60s 766ms/step - loss: 0.3599 - acc: 0.8707 - val_loss: 0.7645 - val_acc: 0.7659\n",
      "Epoch 51/100\n",
      "79/78 [==============================] - 61s 767ms/step - loss: 0.3518 - acc: 0.8754 - val_loss: 0.7327 - val_acc: 0.7781\n",
      "Epoch 52/100\n",
      "79/78 [==============================] - 60s 764ms/step - loss: 0.3445 - acc: 0.8784 - val_loss: 0.7541 - val_acc: 0.7693\n",
      "Epoch 53/100\n",
      "79/78 [==============================] - 60s 764ms/step - loss: 0.3466 - acc: 0.8785 - val_loss: 0.7769 - val_acc: 0.7679\n",
      "Epoch 54/100\n",
      "79/78 [==============================] - 60s 764ms/step - loss: 0.3396 - acc: 0.8798 - val_loss: 0.7286 - val_acc: 0.7728\n",
      "Epoch 55/100\n",
      "79/78 [==============================] - 61s 766ms/step - loss: 0.3328 - acc: 0.8830 - val_loss: 0.7610 - val_acc: 0.7702\n",
      "Epoch 56/100\n",
      "79/78 [==============================] - 60s 762ms/step - loss: 0.3251 - acc: 0.8832 - val_loss: 0.7504 - val_acc: 0.7714\n",
      "Epoch 57/100\n",
      "79/78 [==============================] - 60s 764ms/step - loss: 0.3222 - acc: 0.8877 - val_loss: 0.7639 - val_acc: 0.7703\n",
      "Epoch 58/100\n",
      "79/78 [==============================] - 60s 764ms/step - loss: 0.3135 - acc: 0.8904 - val_loss: 0.7603 - val_acc: 0.7734\n",
      "Epoch 59/100\n",
      "79/78 [==============================] - 60s 761ms/step - loss: 0.3052 - acc: 0.8915 - val_loss: 0.7750 - val_acc: 0.7694\n",
      "Epoch 60/100\n",
      "79/78 [==============================] - 60s 765ms/step - loss: 0.3098 - acc: 0.8897 - val_loss: 0.7410 - val_acc: 0.7747\n",
      "Epoch 61/100\n",
      "79/78 [==============================] - 60s 763ms/step - loss: 0.3050 - acc: 0.8903 - val_loss: 0.7428 - val_acc: 0.7807\n"
     ]
    },
    {
     "name": "stdout",
     "output_type": "stream",
     "text": [
      "Epoch 62/100\n",
      "79/78 [==============================] - 60s 763ms/step - loss: 0.2945 - acc: 0.8966 - val_loss: 0.7642 - val_acc: 0.7712\n",
      "Epoch 63/100\n",
      "79/78 [==============================] - 60s 765ms/step - loss: 0.2950 - acc: 0.8957 - val_loss: 0.8028 - val_acc: 0.7628\n",
      "Epoch 64/100\n",
      "79/78 [==============================] - 60s 759ms/step - loss: 0.2910 - acc: 0.8980 - val_loss: 0.7621 - val_acc: 0.7759\n",
      "Epoch 65/100\n",
      "79/78 [==============================] - 60s 760ms/step - loss: 0.2831 - acc: 0.9009 - val_loss: 0.7593 - val_acc: 0.7769\n",
      "Epoch 66/100\n",
      "79/78 [==============================] - 60s 765ms/step - loss: 0.2771 - acc: 0.9021 - val_loss: 0.7745 - val_acc: 0.7795\n",
      "Epoch 67/100\n",
      "79/78 [==============================] - 60s 763ms/step - loss: 0.2750 - acc: 0.9030 - val_loss: 0.7859 - val_acc: 0.7800\n",
      "Epoch 68/100\n",
      "79/78 [==============================] - 60s 765ms/step - loss: 0.2665 - acc: 0.9059 - val_loss: 0.7601 - val_acc: 0.7806\n",
      "Epoch 69/100\n",
      "79/78 [==============================] - 60s 765ms/step - loss: 0.2671 - acc: 0.9061 - val_loss: 0.8096 - val_acc: 0.7711\n",
      "Epoch 70/100\n",
      "79/78 [==============================] - 60s 764ms/step - loss: 0.2645 - acc: 0.9069 - val_loss: 0.8108 - val_acc: 0.7693\n",
      "Epoch 71/100\n",
      "79/78 [==============================] - 60s 763ms/step - loss: 0.2574 - acc: 0.9103 - val_loss: 0.8112 - val_acc: 0.7683\n",
      "Epoch 72/100\n",
      "79/78 [==============================] - 60s 764ms/step - loss: 0.2543 - acc: 0.9109 - val_loss: 0.7919 - val_acc: 0.7733\n",
      "Epoch 73/100\n",
      "79/78 [==============================] - 60s 757ms/step - loss: 0.2486 - acc: 0.9125 - val_loss: 0.7967 - val_acc: 0.7760\n",
      "Epoch 74/100\n",
      "79/78 [==============================] - 60s 760ms/step - loss: 0.2447 - acc: 0.9131 - val_loss: 0.8011 - val_acc: 0.7777\n",
      "Epoch 75/100\n",
      "79/78 [==============================] - 60s 763ms/step - loss: 0.2436 - acc: 0.9152 - val_loss: 0.7997 - val_acc: 0.7735\n",
      "Epoch 76/100\n",
      "79/78 [==============================] - 60s 764ms/step - loss: 0.2391 - acc: 0.9149 - val_loss: 0.8487 - val_acc: 0.7728\n",
      "Epoch 77/100\n",
      "79/78 [==============================] - 60s 762ms/step - loss: 0.2323 - acc: 0.9172 - val_loss: 0.8105 - val_acc: 0.7803\n",
      "Epoch 78/100\n",
      "79/78 [==============================] - 60s 765ms/step - loss: 0.2304 - acc: 0.9194 - val_loss: 0.7875 - val_acc: 0.7793\n",
      "Epoch 79/100\n",
      "79/78 [==============================] - 60s 766ms/step - loss: 0.2312 - acc: 0.9195 - val_loss: 0.8010 - val_acc: 0.7819\n",
      "Epoch 80/100\n",
      "79/78 [==============================] - 60s 760ms/step - loss: 0.2239 - acc: 0.9207 - val_loss: 0.7944 - val_acc: 0.7827\n",
      "Epoch 81/100\n",
      "79/78 [==============================] - 60s 765ms/step - loss: 0.2215 - acc: 0.9237 - val_loss: 0.8050 - val_acc: 0.7791\n",
      "Epoch 82/100\n",
      "79/78 [==============================] - 60s 763ms/step - loss: 0.2175 - acc: 0.9231 - val_loss: 0.8276 - val_acc: 0.7764\n",
      "Epoch 83/100\n",
      "79/78 [==============================] - 60s 762ms/step - loss: 0.2134 - acc: 0.9243 - val_loss: 0.8377 - val_acc: 0.7799\n",
      "Epoch 84/100\n",
      "79/78 [==============================] - 60s 761ms/step - loss: 0.2122 - acc: 0.9234 - val_loss: 0.8335 - val_acc: 0.7758\n",
      "Epoch 85/100\n",
      "79/78 [==============================] - 60s 761ms/step - loss: 0.2143 - acc: 0.9247 - val_loss: 0.8460 - val_acc: 0.7758\n",
      "Epoch 86/100\n",
      "79/78 [==============================] - 60s 762ms/step - loss: 0.2061 - acc: 0.9291 - val_loss: 0.8767 - val_acc: 0.7749\n",
      "Epoch 87/100\n",
      "79/78 [==============================] - 60s 761ms/step - loss: 0.2082 - acc: 0.9273 - val_loss: 0.8540 - val_acc: 0.7772\n",
      "Epoch 88/100\n",
      "79/78 [==============================] - 61s 766ms/step - loss: 0.2049 - acc: 0.9282 - val_loss: 0.8762 - val_acc: 0.7762\n",
      "Epoch 89/100\n",
      "79/78 [==============================] - 60s 766ms/step - loss: 0.2001 - acc: 0.9298 - val_loss: 0.8244 - val_acc: 0.7792\n",
      "Epoch 90/100\n",
      "79/78 [==============================] - 60s 761ms/step - loss: 0.2007 - acc: 0.9313 - val_loss: 0.8637 - val_acc: 0.7736\n",
      "Epoch 91/100\n",
      "79/78 [==============================] - 60s 765ms/step - loss: 0.1876 - acc: 0.9337 - val_loss: 0.8364 - val_acc: 0.7818\n",
      "Epoch 92/100\n",
      "79/78 [==============================] - 61s 767ms/step - loss: 0.1913 - acc: 0.9337 - val_loss: 0.8736 - val_acc: 0.7791\n",
      "Epoch 93/100\n",
      "79/78 [==============================] - 60s 764ms/step - loss: 0.1893 - acc: 0.9334 - val_loss: 0.8910 - val_acc: 0.7728\n",
      "Epoch 94/100\n",
      "79/78 [==============================] - 61s 768ms/step - loss: 0.1882 - acc: 0.9349 - val_loss: 0.8585 - val_acc: 0.7830\n",
      "Epoch 95/100\n",
      "79/78 [==============================] - 60s 760ms/step - loss: 0.1911 - acc: 0.9343 - val_loss: 0.8413 - val_acc: 0.7859\n",
      "Epoch 96/100\n",
      "79/78 [==============================] - 61s 767ms/step - loss: 0.1778 - acc: 0.9386 - val_loss: 0.8673 - val_acc: 0.7794\n",
      "Epoch 97/100\n",
      "79/78 [==============================] - 60s 763ms/step - loss: 0.1764 - acc: 0.9386 - val_loss: 0.8724 - val_acc: 0.7811\n",
      "Epoch 98/100\n",
      "79/78 [==============================] - 61s 766ms/step - loss: 0.1757 - acc: 0.9380 - val_loss: 0.8655 - val_acc: 0.7797\n",
      "Epoch 99/100\n",
      "79/78 [==============================] - 60s 763ms/step - loss: 0.1787 - acc: 0.9383 - val_loss: 0.8614 - val_acc: 0.7842\n",
      "Epoch 100/100\n",
      "79/78 [==============================] - 60s 764ms/step - loss: 0.1717 - acc: 0.9397 - val_loss: 0.8695 - val_acc: 0.7819\n"
     ]
    },
    {
     "data": {
      "text/plain": [
       "<keras.callbacks.History at 0x7fc5f01972e8>"
      ]
     },
     "execution_count": 21,
     "metadata": {},
     "output_type": "execute_result"
    }
   ],
   "source": [
    "xception.fit_generator(datagen.flow(x_train, y_train, batch_size=BATCH_SIZE),\n",
    "                    steps_per_epoch=len(x_train) / BATCH_SIZE, \n",
    "                    validation_data=ImageDataGenerator().flow(x_val, y_val, batch_size=BATCH_SIZE),\n",
    "                    validation_steps=len(x_val) / BATCH_SIZE,\n",
    "                    epochs=EPOCHS, callbacks=[tensorboard_callback], verbose=1)"
   ]
  },
  {
   "cell_type": "code",
   "execution_count": 22,
   "metadata": {},
   "outputs": [
    {
     "name": "stdout",
     "output_type": "stream",
     "text": [
      "10000/10000 [==============================] - 9s 930us/step\n"
     ]
    },
    {
     "data": {
      "text/plain": [
       "[2.101669556045532, 0.543]"
      ]
     },
     "execution_count": 22,
     "metadata": {},
     "output_type": "execute_result"
    }
   ],
   "source": [
    "xception.evaluate(x_test, y_test, verbose=1)"
   ]
  },
  {
   "cell_type": "code",
   "execution_count": null,
   "metadata": {},
   "outputs": [],
   "source": []
  }
 ],
 "metadata": {
  "kernelspec": {
   "display_name": "Python 3",
   "language": "python",
   "name": "python3"
  },
  "language_info": {
   "codemirror_mode": {
    "name": "ipython",
    "version": 3
   },
   "file_extension": ".py",
   "mimetype": "text/x-python",
   "name": "python",
   "nbconvert_exporter": "python",
   "pygments_lexer": "ipython3",
   "version": "3.6.4"
  }
 },
 "nbformat": 4,
 "nbformat_minor": 2
}
