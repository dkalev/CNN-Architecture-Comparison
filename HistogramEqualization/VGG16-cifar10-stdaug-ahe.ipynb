{
 "cells": [
  {
   "cell_type": "code",
   "execution_count": 230,
   "metadata": {},
   "outputs": [],
   "source": [
    "import keras"
   ]
  },
  {
   "cell_type": "code",
   "execution_count": 231,
   "metadata": {},
   "outputs": [],
   "source": [
    "from keras.applications.vgg16 import VGG16\n",
    "from keras.preprocessing.image import ImageDataGenerator\n",
    "from keras.layers import Input, GlobalAveragePooling2D, Dense\n",
    "from keras.models import Model\n",
    "from keras.optimizers import SGD\n",
    "import numpy as np\n",
    "import pickle as pkl\n",
    "import datetime\n",
    "from skimage import exposure"
   ]
  },
  {
   "cell_type": "markdown",
   "metadata": {},
   "source": [
    "# Load Cifar10 dataset"
   ]
  },
  {
   "cell_type": "code",
   "execution_count": 232,
   "metadata": {},
   "outputs": [],
   "source": [
    "(x_train, y_train), (x_test, y_test) = keras.datasets.cifar10.load_data()"
   ]
  },
  {
   "cell_type": "code",
   "execution_count": 233,
   "metadata": {},
   "outputs": [
    {
     "name": "stdout",
     "output_type": "stream",
     "text": [
      "The training set has 50000 samples with dimentions (32, 32, 3).\n",
      "The test set has 10000 samples with dimentions (32, 32, 3).\n"
     ]
    }
   ],
   "source": [
    "print('The training set has {0} samples with dimentions {1}.'.format(x_train.shape[0], x_train.shape[1:]))\n",
    "print('The test set has {0} samples with dimentions {1}.'.format(x_test.shape[0], x_test.shape[1:]))"
   ]
  },
  {
   "cell_type": "code",
   "execution_count": 234,
   "metadata": {},
   "outputs": [],
   "source": [
    "NUM_CLASSES = 10\n",
    "IMG_ROWS, IMG_COLS = 32, 32\n",
    "BATCH_SIZE = 512\n",
    "EPOCHS = 20\n",
    "VAL_SPLIT = .2\n",
    "LEARNING_RATE = 1e-2\n",
    "SGD_MOMENTUM = .9"
   ]
  },
  {
   "cell_type": "markdown",
   "metadata": {},
   "source": [
    "# Preprocess data"
   ]
  },
  {
   "cell_type": "code",
   "execution_count": 235,
   "metadata": {},
   "outputs": [],
   "source": [
    "x_train = x_train.astype('float32')\n",
    "x_test = x_test.astype('float32')"
   ]
  },
  {
   "cell_type": "code",
   "execution_count": 236,
   "metadata": {},
   "outputs": [],
   "source": [
    "x_train -= np.mean(x_train)\n",
    "x_test -= np.mean(x_test)"
   ]
  },
  {
   "cell_type": "code",
   "execution_count": 237,
   "metadata": {},
   "outputs": [],
   "source": [
    "x_train /= np.std(x_train)\n",
    "x_test /= np.std(x_test)"
   ]
  },
  {
   "cell_type": "code",
   "execution_count": 238,
   "metadata": {},
   "outputs": [],
   "source": [
    "y_train = keras.utils.to_categorical(y_train, NUM_CLASSES)\n",
    "y_test = keras.utils.to_categorical(y_test, NUM_CLASSES)"
   ]
  },
  {
   "cell_type": "code",
   "execution_count": 239,
   "metadata": {},
   "outputs": [],
   "source": [
    "validation_split = int((1-VAL_SPLIT)*len(x_train))\n",
    "x_train, x_val = x_train[:validation_split], x_train[validation_split:]\n",
    "y_train, y_val = y_train[:validation_split], y_train[validation_split:]"
   ]
  },
  {
   "cell_type": "code",
   "execution_count": 240,
   "metadata": {},
   "outputs": [],
   "source": [
    "def contrast_stretching(img):\n",
    "    p2, p98 = np.percentile(img, (2, 98))\n",
    "    return exposure.rescale_intensity(img, in_range=(p2, p98))"
   ]
  },
  {
   "cell_type": "code",
   "execution_count": 241,
   "metadata": {},
   "outputs": [],
   "source": [
    "datagen = ImageDataGenerator(preprocessing_function=contrast_stretching)"
   ]
  },
  {
   "cell_type": "markdown",
   "metadata": {},
   "source": [
    "# Build model"
   ]
  },
  {
   "cell_type": "code",
   "execution_count": 242,
   "metadata": {},
   "outputs": [],
   "source": [
    "input_tensor = Input(shape=(IMG_ROWS, IMG_COLS, 3))"
   ]
  },
  {
   "cell_type": "code",
   "execution_count": 243,
   "metadata": {},
   "outputs": [],
   "source": [
    "base_model = VGG16(include_top=False, input_tensor=input_tensor)"
   ]
  },
  {
   "cell_type": "code",
   "execution_count": 245,
   "metadata": {},
   "outputs": [],
   "source": [
    "x = base_model.output\n",
    "x = GlobalAveragePooling2D()(x)\n",
    "x = Dense(1024, activation='relu')(x)\n",
    "predictions = Dense(NUM_CLASSES, activation='softmax')(x)"
   ]
  },
  {
   "cell_type": "code",
   "execution_count": 246,
   "metadata": {},
   "outputs": [],
   "source": [
    "vgg16 = Model(inputs=base_model.input, outputs=predictions)"
   ]
  },
  {
   "cell_type": "code",
   "execution_count": 247,
   "metadata": {},
   "outputs": [],
   "source": [
    "vgg16.compile(optimizer=SGD(lr=LEARNING_RATE, SGD_MOMENTUM), loss='categorical_crossentropy', metrics=['accuracy'])"
   ]
  },
  {
   "cell_type": "markdown",
   "metadata": {},
   "source": [
    "# Train model"
   ]
  },
  {
   "cell_type": "code",
   "execution_count": 248,
   "metadata": {},
   "outputs": [],
   "source": [
    "now = datetime.datetime.now()\n",
    "tensorflow_log_dir = \"Graph/\" + now.strftime(\"%Y%m%d-%H%M%S\") + \"/\""
   ]
  },
  {
   "cell_type": "code",
   "execution_count": 249,
   "metadata": {},
   "outputs": [],
   "source": [
    "tensorboard_callback = keras.callbacks.TensorBoard(log_dir=tensorflow_log_dir, histogram_freq=0,  \n",
    "          write_graph=False, write_images=False)"
   ]
  },
  {
   "cell_type": "code",
   "execution_count": null,
   "metadata": {},
   "outputs": [
    {
     "name": "stdout",
     "output_type": "stream",
     "text": [
      "Epoch 1/100\n",
      "79/78 [==============================] - 64s 805ms/step - loss: 2.0337 - acc: 0.2939 - val_loss: 1.8914 - val_acc: 0.3465\n",
      "Epoch 2/100\n",
      "79/78 [==============================] - 58s 732ms/step - loss: 1.5818 - acc: 0.4458 - val_loss: 1.5521 - val_acc: 0.4496\n",
      "Epoch 3/100\n",
      "79/78 [==============================] - 58s 739ms/step - loss: 1.3651 - acc: 0.5245 - val_loss: 1.5957 - val_acc: 0.4761\n",
      "Epoch 4/100\n",
      "79/78 [==============================] - 58s 734ms/step - loss: 1.2352 - acc: 0.5736 - val_loss: 1.7893 - val_acc: 0.4006\n",
      "Epoch 5/100\n",
      "79/78 [==============================] - 58s 736ms/step - loss: 1.1374 - acc: 0.6068 - val_loss: 1.0898 - val_acc: 0.6206\n",
      "Epoch 6/100\n",
      "79/78 [==============================] - 58s 739ms/step - loss: 1.0583 - acc: 0.6319 - val_loss: 1.2888 - val_acc: 0.5730\n",
      "Epoch 7/100\n",
      "79/78 [==============================] - 58s 731ms/step - loss: 0.9999 - acc: 0.6516 - val_loss: 1.0442 - val_acc: 0.6389\n",
      "Epoch 8/100\n",
      "79/78 [==============================] - 58s 730ms/step - loss: 0.9526 - acc: 0.6695 - val_loss: 1.2203 - val_acc: 0.5989\n",
      "Epoch 9/100\n",
      "79/78 [==============================] - 58s 734ms/step - loss: 0.9106 - acc: 0.6856 - val_loss: 1.0144 - val_acc: 0.6474\n",
      "Epoch 10/100\n",
      "79/78 [==============================] - 58s 733ms/step - loss: 0.8633 - acc: 0.7014 - val_loss: 1.0343 - val_acc: 0.6436\n",
      "Epoch 11/100\n",
      "79/78 [==============================] - 58s 732ms/step - loss: 0.8378 - acc: 0.7088 - val_loss: 1.0306 - val_acc: 0.6447\n",
      "Epoch 12/100\n",
      "79/78 [==============================] - 58s 732ms/step - loss: 0.8012 - acc: 0.7225 - val_loss: 0.9389 - val_acc: 0.6695\n",
      "Epoch 13/100\n",
      "79/78 [==============================] - 58s 735ms/step - loss: 0.7719 - acc: 0.7317 - val_loss: 0.8432 - val_acc: 0.7095\n",
      "Epoch 14/100\n",
      "79/78 [==============================] - 58s 736ms/step - loss: 0.7581 - acc: 0.7376 - val_loss: 0.7991 - val_acc: 0.7236\n",
      "Epoch 15/100\n",
      "79/78 [==============================] - 58s 734ms/step - loss: 0.7271 - acc: 0.7474 - val_loss: 1.1184 - val_acc: 0.6372\n",
      "Epoch 16/100\n",
      "79/78 [==============================] - 58s 733ms/step - loss: 0.7187 - acc: 0.7504 - val_loss: 0.8708 - val_acc: 0.7041\n",
      "Epoch 17/100\n",
      "79/78 [==============================] - 58s 730ms/step - loss: 0.6779 - acc: 0.7652 - val_loss: 0.8640 - val_acc: 0.6912\n",
      "Epoch 18/100\n",
      "79/78 [==============================] - 58s 733ms/step - loss: 0.6669 - acc: 0.7678 - val_loss: 1.0486 - val_acc: 0.6688\n",
      "Epoch 19/100\n",
      "79/78 [==============================] - 58s 731ms/step - loss: 0.6488 - acc: 0.7759 - val_loss: 0.9232 - val_acc: 0.6863\n",
      "Epoch 20/100\n",
      "79/78 [==============================] - 57s 727ms/step - loss: 0.6403 - acc: 0.7801 - val_loss: 0.7800 - val_acc: 0.7321\n",
      "Epoch 21/100\n",
      "79/78 [==============================] - 58s 729ms/step - loss: 0.6169 - acc: 0.7844 - val_loss: 0.7695 - val_acc: 0.7429\n",
      "Epoch 22/100\n",
      "79/78 [==============================] - 58s 730ms/step - loss: 0.6046 - acc: 0.7882 - val_loss: 0.8240 - val_acc: 0.7240\n",
      "Epoch 23/100\n",
      "79/78 [==============================] - 58s 734ms/step - loss: 0.5888 - acc: 0.7966 - val_loss: 0.9996 - val_acc: 0.6903\n",
      "Epoch 24/100\n",
      "79/78 [==============================] - 58s 731ms/step - loss: 0.5781 - acc: 0.7983 - val_loss: 0.8626 - val_acc: 0.7100\n",
      "Epoch 25/100\n",
      "79/78 [==============================] - 58s 730ms/step - loss: 0.5719 - acc: 0.7981 - val_loss: 1.3118 - val_acc: 0.6143\n",
      "Epoch 26/100\n",
      "79/78 [==============================] - 58s 728ms/step - loss: 0.5623 - acc: 0.8057 - val_loss: 0.7377 - val_acc: 0.7537\n",
      "Epoch 27/100\n",
      "79/78 [==============================] - 58s 730ms/step - loss: 0.5372 - acc: 0.8140 - val_loss: 0.6890 - val_acc: 0.7671\n",
      "Epoch 28/100\n",
      "79/78 [==============================] - 57s 725ms/step - loss: 0.5255 - acc: 0.8164 - val_loss: 1.1115 - val_acc: 0.6642\n",
      "Epoch 29/100\n",
      "79/78 [==============================] - 57s 726ms/step - loss: 0.5297 - acc: 0.8163 - val_loss: 0.7574 - val_acc: 0.7455\n",
      "Epoch 30/100\n",
      "79/78 [==============================] - 58s 732ms/step - loss: 0.5051 - acc: 0.8257 - val_loss: 0.6556 - val_acc: 0.7765\n",
      "Epoch 31/100\n",
      "79/78 [==============================] - 58s 731ms/step - loss: 0.4959 - acc: 0.8269 - val_loss: 0.7370 - val_acc: 0.7639\n",
      "Epoch 32/100\n",
      "79/78 [==============================] - 58s 733ms/step - loss: 0.4860 - acc: 0.8296 - val_loss: 0.6803 - val_acc: 0.7683\n",
      "Epoch 33/100\n",
      "79/78 [==============================] - 58s 735ms/step - loss: 0.4840 - acc: 0.8308 - val_loss: 0.6357 - val_acc: 0.7814\n",
      "Epoch 34/100\n",
      "79/78 [==============================] - 58s 733ms/step - loss: 0.4746 - acc: 0.8334 - val_loss: 0.7148 - val_acc: 0.7521\n",
      "Epoch 35/100\n",
      "79/78 [==============================] - 58s 732ms/step - loss: 0.4640 - acc: 0.8382 - val_loss: 0.8100 - val_acc: 0.7388\n",
      "Epoch 36/100\n",
      "79/78 [==============================] - 57s 727ms/step - loss: 0.4514 - acc: 0.8392 - val_loss: 0.6878 - val_acc: 0.7759\n",
      "Epoch 37/100\n",
      "79/78 [==============================] - 58s 729ms/step - loss: 0.4529 - acc: 0.8409 - val_loss: 0.6925 - val_acc: 0.7657\n",
      "Epoch 38/100\n",
      "79/78 [==============================] - 58s 730ms/step - loss: 0.4394 - acc: 0.8435 - val_loss: 0.6397 - val_acc: 0.7889\n",
      "Epoch 39/100\n",
      "79/78 [==============================] - 58s 730ms/step - loss: 0.4291 - acc: 0.8510 - val_loss: 0.6959 - val_acc: 0.7779\n",
      "Epoch 40/100\n",
      "79/78 [==============================] - 58s 733ms/step - loss: 0.4123 - acc: 0.8550 - val_loss: 0.8089 - val_acc: 0.7476\n",
      "Epoch 41/100\n",
      "79/78 [==============================] - 58s 729ms/step - loss: 0.4193 - acc: 0.8533 - val_loss: 0.7707 - val_acc: 0.7522\n",
      "Epoch 42/100\n",
      "79/78 [==============================] - 58s 731ms/step - loss: 0.4092 - acc: 0.8568 - val_loss: 0.6705 - val_acc: 0.7760\n",
      "Epoch 43/100\n",
      "79/78 [==============================] - 58s 729ms/step - loss: 0.3986 - acc: 0.8607 - val_loss: 0.9849 - val_acc: 0.6966\n",
      "Epoch 44/100\n",
      "79/78 [==============================] - 58s 732ms/step - loss: 0.3982 - acc: 0.8607 - val_loss: 0.7329 - val_acc: 0.7680\n",
      "Epoch 45/100\n",
      "79/78 [==============================] - 58s 731ms/step - loss: 0.3773 - acc: 0.8690 - val_loss: 0.7834 - val_acc: 0.7610\n",
      "Epoch 46/100\n",
      "79/78 [==============================] - 58s 732ms/step - loss: 0.3808 - acc: 0.8651 - val_loss: 0.8404 - val_acc: 0.7472\n",
      "Epoch 47/100\n",
      "79/78 [==============================] - 58s 731ms/step - loss: 0.3759 - acc: 0.8689 - val_loss: 0.6824 - val_acc: 0.7760\n",
      "Epoch 48/100\n",
      "79/78 [==============================] - 58s 729ms/step - loss: 0.3664 - acc: 0.8714 - val_loss: 0.8130 - val_acc: 0.7543\n",
      "Epoch 49/100\n",
      "79/78 [==============================] - 58s 735ms/step - loss: 0.3624 - acc: 0.8727 - val_loss: 0.8902 - val_acc: 0.7364\n",
      "Epoch 50/100\n",
      "79/78 [==============================] - 58s 731ms/step - loss: 0.3650 - acc: 0.8707 - val_loss: 0.5849 - val_acc: 0.8091\n",
      "Epoch 51/100\n",
      "22/78 [=======>......................] - ETA: 36s - loss: 0.3435 - acc: 0.8820"
     ]
    }
   ],
   "source": [
    "vgg16.fit_generator(datagen.flow(x_train, y_train, batch_size=BATCH_SIZE),\n",
    "                    steps_per_epoch=len(x_train) / BATCH_SIZE, \n",
    "                    validation_data=ImageDataGenerator().flow(x_val, y_val, batch_size=BATCH_SIZE),\n",
    "                    validation_steps=len(x_val) / BATCH_SIZE,\n",
    "                    epochs=EPOCHS, callbacks=[tensorboard_callback], verbose=1)"
   ]
  },
  {
   "cell_type": "code",
   "execution_count": 212,
   "metadata": {},
   "outputs": [
    {
     "name": "stdout",
     "output_type": "stream",
     "text": [
      "10000/10000 [==============================] - 6s 552us/step\n"
     ]
    },
    {
     "data": {
      "text/plain": [
       "[0.7941863952636719, 0.7319]"
      ]
     },
     "execution_count": 212,
     "metadata": {},
     "output_type": "execute_result"
    }
   ],
   "source": [
    "vgg16.evaluate(x_test, y_test, verbose=1)"
   ]
  },
  {
   "cell_type": "code",
   "execution_count": null,
   "metadata": {},
   "outputs": [],
   "source": []
  }
 ],
 "metadata": {
  "kernelspec": {
   "display_name": "Python 3",
   "language": "python",
   "name": "python3"
  },
  "language_info": {
   "codemirror_mode": {
    "name": "ipython",
    "version": 3
   },
   "file_extension": ".py",
   "mimetype": "text/x-python",
   "name": "python",
   "nbconvert_exporter": "python",
   "pygments_lexer": "ipython3",
   "version": "3.6.4"
  }
 },
 "nbformat": 4,
 "nbformat_minor": 2
}
