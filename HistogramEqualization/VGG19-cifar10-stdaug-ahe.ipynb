{
 "cells": [
  {
   "cell_type": "code",
   "execution_count": 1,
   "metadata": {},
   "outputs": [
    {
     "name": "stderr",
     "output_type": "stream",
     "text": [
      "Using TensorFlow backend.\n"
     ]
    }
   ],
   "source": [
    "import keras"
   ]
  },
  {
   "cell_type": "code",
   "execution_count": 2,
   "metadata": {},
   "outputs": [],
   "source": [
    "from keras.applications.vgg19 import VGG19\n",
    "from keras.preprocessing.image import ImageDataGenerator\n",
    "from keras.layers import Input, GlobalAveragePooling2D, Dense\n",
    "from keras.models import Model\n",
    "from keras.optimizers import SGD\n",
    "import numpy as np\n",
    "import pickle as pkl\n",
    "import datetime\n",
    "from skimage import exposure"
   ]
  },
  {
   "cell_type": "markdown",
   "metadata": {},
   "source": [
    "# Load Cifar10 dataset"
   ]
  },
  {
   "cell_type": "code",
   "execution_count": 3,
   "metadata": {},
   "outputs": [],
   "source": [
    "(x_train, y_train), (x_test, y_test) = keras.datasets.cifar10.load_data()"
   ]
  },
  {
   "cell_type": "code",
   "execution_count": 4,
   "metadata": {},
   "outputs": [
    {
     "name": "stdout",
     "output_type": "stream",
     "text": [
      "The training set has 50000 samples with dimentions (32, 32, 3).\n",
      "The test set has 10000 samples with dimentions (32, 32, 3).\n"
     ]
    }
   ],
   "source": [
    "print('The training set has {0} samples with dimentions {1}.'.format(x_train.shape[0], x_train.shape[1:]))\n",
    "print('The test set has {0} samples with dimentions {1}.'.format(x_test.shape[0], x_test.shape[1:]))"
   ]
  },
  {
   "cell_type": "code",
   "execution_count": 5,
   "metadata": {},
   "outputs": [],
   "source": [
    "NUM_CLASSES = 10\n",
    "IMG_ROWS, IMG_COLS = 32, 32\n",
    "BATCH_SIZE = 512\n",
    "EPOCHS = 20\n",
    "VAL_SPLIT = .2\n",
    "LEARNING_RATE = 1e-2\n",
    "SGD_MOMENTUM = .9"
   ]
  },
  {
   "cell_type": "markdown",
   "metadata": {},
   "source": [
    "# Preprocess data"
   ]
  },
  {
   "cell_type": "code",
   "execution_count": 6,
   "metadata": {},
   "outputs": [],
   "source": [
    "x_train = x_train.astype('float32')\n",
    "x_test = x_test.astype('float32')"
   ]
  },
  {
   "cell_type": "code",
   "execution_count": 7,
   "metadata": {},
   "outputs": [],
   "source": [
    "x_train -= np.mean(x_train)\n",
    "x_test -= np.mean(x_test)"
   ]
  },
  {
   "cell_type": "code",
   "execution_count": 8,
   "metadata": {},
   "outputs": [],
   "source": [
    "x_train /= 255\n",
    "x_test /= 255"
   ]
  },
  {
   "cell_type": "code",
   "execution_count": 9,
   "metadata": {},
   "outputs": [],
   "source": [
    "y_train = keras.utils.to_categorical(y_train, NUM_CLASSES)\n",
    "y_test = keras.utils.to_categorical(y_test, NUM_CLASSES)"
   ]
  },
  {
   "cell_type": "code",
   "execution_count": 10,
   "metadata": {},
   "outputs": [],
   "source": [
    "validation_split = int((1-VAL_SPLIT)*len(x_train))\n",
    "x_train, x_val = x_train[:validation_split], x_train[validation_split:]\n",
    "y_train, y_val = y_train[:validation_split], y_train[validation_split:]"
   ]
  },
  {
   "cell_type": "code",
   "execution_count": 11,
   "metadata": {},
   "outputs": [],
   "source": [
    "def contrast_stretching(img):\n",
    "    p2, p98 = np.percentile(img, (2, 98))\n",
    "    return exposure.rescale_intensity(img, in_range=(p2, p98))"
   ]
  },
  {
   "cell_type": "code",
   "execution_count": 12,
   "metadata": {},
   "outputs": [],
   "source": [
    "datagen = ImageDataGenerator(preprocessing_function=contrast_stretching)"
   ]
  },
  {
   "cell_type": "markdown",
   "metadata": {},
   "source": [
    "# Build model"
   ]
  },
  {
   "cell_type": "code",
   "execution_count": 13,
   "metadata": {},
   "outputs": [],
   "source": [
    "input_tensor = Input(shape=(IMG_ROWS, IMG_COLS, 3))"
   ]
  },
  {
   "cell_type": "code",
   "execution_count": 14,
   "metadata": {},
   "outputs": [],
   "source": [
    "base_model = VGG19(include_top=False, input_tensor=input_tensor)"
   ]
  },
  {
   "cell_type": "code",
   "execution_count": 16,
   "metadata": {},
   "outputs": [],
   "source": [
    "x = base_model.output\n",
    "x = GlobalAveragePooling2D()(x)\n",
    "x = Dense(1024, activation='relu')(x)\n",
    "predictions = Dense(NUM_CLASSES, activation='softmax')(x)"
   ]
  },
  {
   "cell_type": "code",
   "execution_count": 17,
   "metadata": {},
   "outputs": [],
   "source": [
    "vgg19 = Model(inputs=base_model.input, outputs=predictions)"
   ]
  },
  {
   "cell_type": "code",
   "execution_count": 18,
   "metadata": {},
   "outputs": [],
   "source": [
    "vgg19.compile(optimizer=SGD(lr=LEARNING_RATE, momentum=SGD_MOMENTUM), loss='categorical_crossentropy', metrics=['accuracy'])"
   ]
  },
  {
   "cell_type": "markdown",
   "metadata": {},
   "source": [
    "# Train model"
   ]
  },
  {
   "cell_type": "code",
   "execution_count": 19,
   "metadata": {},
   "outputs": [],
   "source": [
    "now = datetime.datetime.now()\n",
    "tensorflow_log_dir = \"Graph/\" + now.strftime(\"%Y%m%d-%H%M%S\") + \"/\""
   ]
  },
  {
   "cell_type": "code",
   "execution_count": 20,
   "metadata": {},
   "outputs": [],
   "source": [
    "tensorboard_callback = keras.callbacks.TensorBoard(log_dir=tensorflow_log_dir, histogram_freq=0,  \n",
    "          write_graph=False, write_images=False)"
   ]
  },
  {
   "cell_type": "code",
   "execution_count": 21,
   "metadata": {},
   "outputs": [
    {
     "name": "stdout",
     "output_type": "stream",
     "text": [
      "Epoch 1/40\n",
      "79/78 [==============================] - 59s 745ms/step - loss: 2.0591 - acc: 0.2476 - val_loss: 1.9725 - val_acc: 0.2938\n",
      "Epoch 2/40\n",
      "79/78 [==============================] - 49s 626ms/step - loss: 1.5635 - acc: 0.4470 - val_loss: 1.6094 - val_acc: 0.4299\n",
      "Epoch 3/40\n",
      "79/78 [==============================] - 51s 643ms/step - loss: 1.3105 - acc: 0.5459 - val_loss: 1.2013 - val_acc: 0.6102\n",
      "Epoch 4/40\n",
      "79/78 [==============================] - 51s 640ms/step - loss: 1.1664 - acc: 0.5990 - val_loss: 1.0533 - val_acc: 0.6455\n",
      "Epoch 5/40\n",
      "79/78 [==============================] - 51s 644ms/step - loss: 1.0740 - acc: 0.6318 - val_loss: 1.0856 - val_acc: 0.6262\n",
      "Epoch 6/40\n",
      "79/78 [==============================] - 51s 643ms/step - loss: 0.9825 - acc: 0.6648 - val_loss: 1.0472 - val_acc: 0.6512\n",
      "Epoch 7/40\n",
      "79/78 [==============================] - 51s 641ms/step - loss: 0.9531 - acc: 0.6741 - val_loss: 1.0299 - val_acc: 0.6584\n",
      "Epoch 8/40\n",
      "79/78 [==============================] - 51s 642ms/step - loss: 0.8854 - acc: 0.6970 - val_loss: 0.8949 - val_acc: 0.6908\n",
      "Epoch 9/40\n",
      "79/78 [==============================] - 50s 639ms/step - loss: 0.8440 - acc: 0.7113 - val_loss: 0.8639 - val_acc: 0.6960\n",
      "Epoch 10/40\n",
      "79/78 [==============================] - 51s 640ms/step - loss: 0.8037 - acc: 0.7255 - val_loss: 0.8332 - val_acc: 0.7164\n",
      "Epoch 11/40\n",
      "79/78 [==============================] - 51s 643ms/step - loss: 0.7707 - acc: 0.7381 - val_loss: 1.1047 - val_acc: 0.6336\n",
      "Epoch 12/40\n",
      "79/78 [==============================] - 50s 636ms/step - loss: 0.7480 - acc: 0.7452 - val_loss: 1.5472 - val_acc: 0.5387\n",
      "Epoch 13/40\n",
      "79/78 [==============================] - 51s 641ms/step - loss: 0.7209 - acc: 0.7529 - val_loss: 0.8131 - val_acc: 0.7070\n",
      "Epoch 14/40\n",
      "79/78 [==============================] - 51s 643ms/step - loss: 0.6954 - acc: 0.7623 - val_loss: 0.8571 - val_acc: 0.6900\n",
      "Epoch 15/40\n",
      "79/78 [==============================] - 50s 638ms/step - loss: 0.6798 - acc: 0.7666 - val_loss: 0.9427 - val_acc: 0.6815\n",
      "Epoch 16/40\n",
      "79/78 [==============================] - 51s 640ms/step - loss: 0.6458 - acc: 0.7771 - val_loss: 0.7180 - val_acc: 0.7494\n",
      "Epoch 17/40\n",
      "79/78 [==============================] - 50s 637ms/step - loss: 0.6251 - acc: 0.7844 - val_loss: 0.9647 - val_acc: 0.6682\n",
      "Epoch 18/40\n",
      "79/78 [==============================] - 51s 641ms/step - loss: 0.6100 - acc: 0.7888 - val_loss: 0.8516 - val_acc: 0.7138\n",
      "Epoch 19/40\n",
      "79/78 [==============================] - 51s 641ms/step - loss: 0.5904 - acc: 0.7977 - val_loss: 0.8697 - val_acc: 0.7077\n",
      "Epoch 20/40\n",
      "79/78 [==============================] - 50s 639ms/step - loss: 0.5656 - acc: 0.8056 - val_loss: 1.1494 - val_acc: 0.6525\n",
      "Epoch 21/40\n",
      "79/78 [==============================] - 51s 642ms/step - loss: 0.5670 - acc: 0.8066 - val_loss: 0.7340 - val_acc: 0.7574\n",
      "Epoch 22/40\n",
      "79/78 [==============================] - 51s 640ms/step - loss: 0.5455 - acc: 0.8125 - val_loss: 1.3599 - val_acc: 0.5813\n",
      "Epoch 23/40\n",
      "79/78 [==============================] - 51s 643ms/step - loss: 0.5228 - acc: 0.8188 - val_loss: 0.9167 - val_acc: 0.7177\n",
      "Epoch 24/40\n",
      "79/78 [==============================] - 51s 642ms/step - loss: 0.5076 - acc: 0.8257 - val_loss: 0.7770 - val_acc: 0.7445\n",
      "Epoch 25/40\n",
      "79/78 [==============================] - 51s 645ms/step - loss: 0.5047 - acc: 0.8236 - val_loss: 0.9297 - val_acc: 0.7051\n",
      "Epoch 26/40\n",
      "79/78 [==============================] - 51s 645ms/step - loss: 0.4831 - acc: 0.8329 - val_loss: 0.8836 - val_acc: 0.7037\n",
      "Epoch 27/40\n",
      "79/78 [==============================] - 51s 643ms/step - loss: 0.4771 - acc: 0.8352 - val_loss: 1.0346 - val_acc: 0.6694\n",
      "Epoch 28/40\n",
      "79/78 [==============================] - 51s 642ms/step - loss: 0.4659 - acc: 0.8382 - val_loss: 0.7855 - val_acc: 0.7393\n",
      "Epoch 29/40\n",
      "79/78 [==============================] - 51s 643ms/step - loss: 0.4592 - acc: 0.8415 - val_loss: 0.8222 - val_acc: 0.7307\n",
      "Epoch 30/40\n",
      "79/78 [==============================] - 50s 631ms/step - loss: 0.4494 - acc: 0.8441 - val_loss: 0.9534 - val_acc: 0.6975\n",
      "Epoch 31/40\n",
      "79/78 [==============================] - 50s 634ms/step - loss: 0.4273 - acc: 0.8526 - val_loss: 1.1535 - val_acc: 0.6744\n",
      "Epoch 32/40\n",
      "79/78 [==============================] - 50s 634ms/step - loss: 0.4234 - acc: 0.8535 - val_loss: 0.7569 - val_acc: 0.7550\n",
      "Epoch 33/40\n",
      "79/78 [==============================] - 51s 644ms/step - loss: 0.4098 - acc: 0.8604 - val_loss: 0.8386 - val_acc: 0.7193\n",
      "Epoch 34/40\n",
      "79/78 [==============================] - 51s 640ms/step - loss: 0.4029 - acc: 0.8604 - val_loss: 0.7452 - val_acc: 0.7594\n",
      "Epoch 35/40\n",
      "79/78 [==============================] - 51s 640ms/step - loss: 0.3876 - acc: 0.8647 - val_loss: 0.8619 - val_acc: 0.7226\n",
      "Epoch 36/40\n",
      "79/78 [==============================] - 50s 639ms/step - loss: 0.3866 - acc: 0.8657 - val_loss: 0.9996 - val_acc: 0.6976\n",
      "Epoch 37/40\n",
      "79/78 [==============================] - 51s 645ms/step - loss: 0.3762 - acc: 0.8689 - val_loss: 0.7348 - val_acc: 0.7514\n",
      "Epoch 38/40\n",
      "79/78 [==============================] - 51s 647ms/step - loss: 0.3669 - acc: 0.8712 - val_loss: 1.1640 - val_acc: 0.6713\n",
      "Epoch 39/40\n",
      "79/78 [==============================] - 51s 644ms/step - loss: 0.3557 - acc: 0.8769 - val_loss: 0.7646 - val_acc: 0.7547\n",
      "Epoch 40/40\n",
      "79/78 [==============================] - 51s 641ms/step - loss: 0.3480 - acc: 0.8788 - val_loss: 1.1004 - val_acc: 0.6819\n"
     ]
    },
    {
     "data": {
      "text/plain": [
       "<keras.callbacks.History at 0x7f03d0d66240>"
      ]
     },
     "execution_count": 21,
     "metadata": {},
     "output_type": "execute_result"
    }
   ],
   "source": [
    "vgg19.fit_generator(datagen.flow(x_train, y_train, batch_size=BATCH_SIZE),\n",
    "                    steps_per_epoch=len(x_train) / BATCH_SIZE, \n",
    "                    validation_data=ImageDataGenerator().flow(x_val, y_val, batch_size=BATCH_SIZE),\n",
    "                    validation_steps=len(x_val) / BATCH_SIZE,\n",
    "                    epochs=EPOCHS, callbacks=[tensorboard_callback], verbose=1)"
   ]
  },
  {
   "cell_type": "code",
   "execution_count": 22,
   "metadata": {},
   "outputs": [
    {
     "name": "stdout",
     "output_type": "stream",
     "text": [
      "10000/10000 [==============================] - 7s 709us/step\n"
     ]
    },
    {
     "data": {
      "text/plain": [
       "[1.1285193413734436, 0.6786]"
      ]
     },
     "execution_count": 22,
     "metadata": {},
     "output_type": "execute_result"
    }
   ],
   "source": [
    "vgg19.evaluate(x_test, y_test, verbose=1)"
   ]
  },
  {
   "cell_type": "code",
   "execution_count": null,
   "metadata": {},
   "outputs": [],
   "source": []
  },
  {
   "cell_type": "code",
   "execution_count": null,
   "metadata": {},
   "outputs": [],
   "source": []
  }
 ],
 "metadata": {
  "kernelspec": {
   "display_name": "Python 3",
   "language": "python",
   "name": "python3"
  },
  "language_info": {
   "codemirror_mode": {
    "name": "ipython",
    "version": 3
   },
   "file_extension": ".py",
   "mimetype": "text/x-python",
   "name": "python",
   "nbconvert_exporter": "python",
   "pygments_lexer": "ipython3",
   "version": "3.6.4"
  }
 },
 "nbformat": 4,
 "nbformat_minor": 2
}
